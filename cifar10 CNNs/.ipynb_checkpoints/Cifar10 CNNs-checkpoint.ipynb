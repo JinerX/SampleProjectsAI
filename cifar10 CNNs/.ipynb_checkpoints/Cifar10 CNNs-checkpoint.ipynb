{
 "cells": [
  {
   "cell_type": "code",
   "id": "initial_id",
   "metadata": {
    "collapsed": true,
    "ExecuteTime": {
     "end_time": "2024-10-24T16:33:33.958525Z",
     "start_time": "2024-10-24T16:33:33.507276Z"
    }
   },
   "source": [
    "import tensorflow as tf\n",
    "from tensorflow import keras\n",
    "from tensorflow.keras import layers\n",
    "from tensorflow.keras.datasets import cifar10\n",
    "import matplotlib.pyplot as plt"
   ],
   "outputs": [],
   "execution_count": 2
  },
  {
   "metadata": {},
   "cell_type": "markdown",
   "source": [
    "1. 50000 training images\n",
    "2. 10000 test images\n",
    "3. 32x32 pixels RGB"
   ],
   "id": "269f6b59722877c9"
  },
  {
   "metadata": {
    "ExecuteTime": {
     "end_time": "2024-10-24T16:43:41.244343Z",
     "start_time": "2024-10-24T16:43:40.281707Z"
    }
   },
   "cell_type": "code",
   "source": [
    "(x_train, y_train), (x_test, y_test) = cifar10.load_data()\n",
    "x_train = x_train.astype('float32') / 255.0\n",
    "x_test = x_test.astype('float32') / 255.0"
   ],
   "id": "da0d47095e6b24e2",
   "outputs": [],
   "execution_count": 4
  },
  {
   "metadata": {},
   "cell_type": "markdown",
   "source": "Example image",
   "id": "d5491162cac24ddf"
  },
  {
   "metadata": {
    "ExecuteTime": {
     "end_time": "2024-10-24T17:14:08.244693Z",
     "start_time": "2024-10-24T17:14:08.236141Z"
    }
   },
   "cell_type": "code",
   "source": "class_names = ['airplane', 'automobile', 'bird', 'cat', 'deer','dog', 'frog', 'horse', 'ship', 'truck']",
   "id": "7e703b656398b376",
   "outputs": [],
   "execution_count": 39
  },
  {
   "metadata": {
    "ExecuteTime": {
     "end_time": "2024-10-24T17:15:33.069089Z",
     "start_time": "2024-10-24T17:15:32.936385Z"
    }
   },
   "cell_type": "code",
   "source": [
    "i = 20\n",
    "image = x_train[i]\n",
    "plt.imshow(image)\n",
    "plt.title(f\"Label: {class_names[int(y_train[i][0])]}\")\n",
    "plt.show()"
   ],
   "id": "774dcc7cff64a444",
   "outputs": [
    {
     "data": {
      "text/plain": [
       "<Figure size 640x480 with 1 Axes>"
      ],
      "image/png": "[encoded data removed]"
     },
     "metadata": {},
     "output_type": "display_data"
    }
   ],
   "execution_count": 49
  },
  {
   "metadata": {
    "ExecuteTime": {
     "end_time": "2024-10-24T16:50:41.745477Z",
     "start_time": "2024-10-24T16:50:41.678457Z"
    }
   },
   "cell_type": "code",
   "source": [
    "model = keras.models.Sequential(\n",
    "    [\n",
    "        keras.Input(shape=(32, 32, 3)),\n",
    "        layers.Conv2D(32, 3, activation='relu', padding='valid'),\n",
    "        layers.MaxPooling2D(pool_size=(2, 2)),\n",
    "        layers.Conv2D(64, 3, activation='relu', padding='valid'),\n",
    "        layers.MaxPooling2D(pool_size=(2, 2)),\n",
    "        layers.Conv2D(128, 3, activation='relu', padding='valid'),\n",
    "        layers.Flatten(),\n",
    "        layers.Dense(128, activation='relu'),\n",
    "        layers.Dense(10, activation='softmax')\n",
    "    ]\n",
    ")"
   ],
   "id": "11a79b71a1da94a4",
   "outputs": [],
   "execution_count": 10
  },
  {
   "metadata": {
    "ExecuteTime": {
     "end_time": "2024-10-24T16:50:42.724403Z",
     "start_time": "2024-10-24T16:50:42.704518Z"
    }
   },
   "cell_type": "code",
   "source": [
    "model.compile(\n",
    "    loss=keras.losses.SparseCategoricalCrossentropy(from_logits=False),\n",
    "    optimizer=keras.optimizers.Adam(learning_rate=0.001),\n",
    "    metrics=['accuracy']\n",
    ")"
   ],
   "id": "f1149b4aa688dcce",
   "outputs": [],
   "execution_count": 11
  },
  {
   "metadata": {
    "ExecuteTime": {
     "end_time": "2024-10-24T16:52:04.057396Z",
     "start_time": "2024-10-24T16:50:44.214467Z"
    }
   },
   "cell_type": "code",
   "source": "model.fit(x_train, y_train, batch_size=64, epochs=10, verbose=2)",
   "id": "ed4e1c9fcb48df0d",
   "outputs": [
    {
     "name": "stdout",
     "output_type": "stream",
     "text": [
      "Epoch 1/10\n",
      "782/782 - 9s - loss: 1.5292 - accuracy: 0.4429 - 9s/epoch - 11ms/step\n",
      "Epoch 2/10\n",
      "782/782 - 8s - loss: 1.1618 - accuracy: 0.5887 - 8s/epoch - 10ms/step\n",
      "Epoch 3/10\n",
      "782/782 - 8s - loss: 0.9838 - accuracy: 0.6566 - 8s/epoch - 10ms/step\n",
      "Epoch 4/10\n",
      "782/782 - 8s - loss: 0.8691 - accuracy: 0.6976 - 8s/epoch - 10ms/step\n",
      "Epoch 5/10\n",
      "782/782 - 8s - loss: 0.7881 - accuracy: 0.7259 - 8s/epoch - 10ms/step\n",
      "Epoch 6/10\n",
      "782/782 - 8s - loss: 0.7116 - accuracy: 0.7512 - 8s/epoch - 10ms/step\n",
      "Epoch 7/10\n",
      "782/782 - 8s - loss: 0.6590 - accuracy: 0.7698 - 8s/epoch - 10ms/step\n",
      "Epoch 8/10\n",
      "782/782 - 8s - loss: 0.6010 - accuracy: 0.7886 - 8s/epoch - 10ms/step\n",
      "Epoch 9/10\n",
      "782/782 - 8s - loss: 0.5492 - accuracy: 0.8085 - 8s/epoch - 10ms/step\n",
      "Epoch 10/10\n",
      "782/782 - 8s - loss: 0.4981 - accuracy: 0.8250 - 8s/epoch - 10ms/step\n"
     ]
    },
    {
     "data": {
      "text/plain": [
       "<keras.callbacks.History at 0x1fdc75e1630>"
      ]
     },
     "execution_count": 12,
     "metadata": {},
     "output_type": "execute_result"
    }
   ],
   "execution_count": 12
  },
  {
   "metadata": {
    "ExecuteTime": {
     "end_time": "2024-10-24T16:52:06.105350Z",
     "start_time": "2024-10-24T16:52:04.896274Z"
    }
   },
   "cell_type": "code",
   "source": "model.evaluate(x_test, y_test, verbose=2)",
   "id": "56fa6c15638dfce1",
   "outputs": [
    {
     "name": "stdout",
     "output_type": "stream",
     "text": [
      "313/313 - 1s - loss: 0.8491 - accuracy: 0.7249 - 1s/epoch - 4ms/step\n"
     ]
    },
    {
     "data": {
      "text/plain": [
       "[0.8491491079330444, 0.7249000072479248]"
      ]
     },
     "execution_count": 13,
     "metadata": {},
     "output_type": "execute_result"
    }
   ],
   "execution_count": 13
  },
  {
   "metadata": {
    "ExecuteTime": {
     "end_time": "2024-10-24T16:52:07.788577Z",
     "start_time": "2024-10-24T16:52:07.752545Z"
    }
   },
   "cell_type": "code",
   "source": "model.summary()",
   "id": "2301a34f5e1230e1",
   "outputs": [
    {
     "name": "stdout",
     "output_type": "stream",
     "text": [
      "Model: \"sequential_1\"\n",
      "_________________________________________________________________\n",
      " Layer (type)                Output Shape              Param #   \n",
      "=================================================================\n",
      " conv2d_3 (Conv2D)           (None, 30, 30, 32)        896       \n",
      "                                                                 \n",
      " max_pooling2d_2 (MaxPooling  (None, 15, 15, 32)       0         \n",
      " 2D)                                                             \n",
      "                                                                 \n",
      " conv2d_4 (Conv2D)           (None, 13, 13, 64)        18496     \n",
      "                                                                 \n",
      " max_pooling2d_3 (MaxPooling  (None, 6, 6, 64)         0         \n",
      " 2D)                                                             \n",
      "                                                                 \n",
      " conv2d_5 (Conv2D)           (None, 4, 4, 128)         73856     \n",
      "                                                                 \n",
      " flatten_1 (Flatten)         (None, 2048)              0         \n",
      "                                                                 \n",
      " dense_2 (Dense)             (None, 128)               262272    \n",
      "                                                                 \n",
      " dense_3 (Dense)             (None, 10)                1290      \n",
      "                                                                 \n",
      "=================================================================\n",
      "Total params: 356,810\n",
      "Trainable params: 356,810\n",
      "Non-trainable params: 0\n",
      "_________________________________________________________________\n"
     ]
    }
   ],
   "execution_count": 14
  },
  {
   "metadata": {
    "ExecuteTime": {
     "end_time": "2024-10-24T17:09:19.175229Z",
     "start_time": "2024-10-24T17:09:19.160089Z"
    }
   },
   "cell_type": "code",
   "source": [
    "def my_model(l2reg=None):\n",
    "    inputs = keras.Input(shape=(32, 32, 3))\n",
    "    x = layers.Conv2D(32, 5, padding='valid', kernel_regularizer=l2reg)(inputs)\n",
    "    x = layers.BatchNormalization()(x)\n",
    "    x = layers.Activation('relu')(x)\n",
    "    x = layers.MaxPooling2D(pool_size=(2, 2))(x)\n",
    "    x = layers.Conv2D(64, 3, padding='valid', kernel_regularizer=l2reg)(x)\n",
    "    x = layers.BatchNormalization()(x)\n",
    "    x = layers.Activation('relu')(x)\n",
    "    x = layers.MaxPooling2D(pool_size=(2, 2))(x)\n",
    "    x = layers.Conv2D(128, 3, padding='valid', kernel_regularizer=l2reg)(x)\n",
    "    x = layers.BatchNormalization()(x)\n",
    "    x = layers.Activation('relu')(x)\n",
    "    x = layers.Flatten()(x)\n",
    "    x = layers.Dense(128, activation='relu')(x)\n",
    "    outputs = layers.Dense(10, activation='softmax')(x)\n",
    "    model = keras.Model(inputs=inputs, outputs=outputs)\n",
    "    return model"
   ],
   "id": "745c44f3a23609dd",
   "outputs": [],
   "execution_count": 31
  },
  {
   "metadata": {
    "ExecuteTime": {
     "end_time": "2024-10-24T17:09:20.497764Z",
     "start_time": "2024-10-24T17:09:20.386487Z"
    }
   },
   "cell_type": "code",
   "source": "model2 = my_model()",
   "id": "4663c5d55902d58f",
   "outputs": [],
   "execution_count": 32
  },
  {
   "metadata": {
    "ExecuteTime": {
     "end_time": "2024-10-24T17:09:21.159005Z",
     "start_time": "2024-10-24T17:09:21.145441Z"
    }
   },
   "cell_type": "code",
   "source": [
    "model2.compile(optimizer=keras.optimizers.Adam(learning_rate=0.001),\n",
    "               loss=keras.losses.SparseCategoricalCrossentropy(from_logits=False),\n",
    "               metrics=['accuracy'])"
   ],
   "id": "bb9d6b0e848b380d",
   "outputs": [],
   "execution_count": 33
  },
  {
   "metadata": {
    "ExecuteTime": {
     "end_time": "2024-10-24T17:11:05.022218Z",
     "start_time": "2024-10-24T17:09:21.845553Z"
    }
   },
   "cell_type": "code",
   "source": "model2.fit(x_train, y_train, batch_size=64, epochs=10, verbose=2)",
   "id": "dd60c91844f35898",
   "outputs": [
    {
     "name": "stdout",
     "output_type": "stream",
     "text": [
      "Epoch 1/10\n",
      "782/782 - 11s - loss: 1.7220 - accuracy: 0.4279 - 11s/epoch - 14ms/step\n",
      "Epoch 2/10\n",
      "782/782 - 10s - loss: 1.3645 - accuracy: 0.5586 - 10s/epoch - 12ms/step\n",
      "Epoch 3/10\n",
      "782/782 - 10s - loss: 1.2268 - accuracy: 0.6131 - 10s/epoch - 13ms/step\n",
      "Epoch 4/10\n",
      "782/782 - 10s - loss: 1.1279 - accuracy: 0.6465 - 10s/epoch - 13ms/step\n",
      "Epoch 5/10\n",
      "782/782 - 10s - loss: 1.0707 - accuracy: 0.6738 - 10s/epoch - 13ms/step\n",
      "Epoch 6/10\n",
      "782/782 - 10s - loss: 1.0194 - accuracy: 0.6963 - 10s/epoch - 13ms/step\n",
      "Epoch 7/10\n",
      "782/782 - 10s - loss: 0.9752 - accuracy: 0.7121 - 10s/epoch - 13ms/step\n",
      "Epoch 8/10\n",
      "782/782 - 11s - loss: 0.9447 - accuracy: 0.7270 - 11s/epoch - 14ms/step\n",
      "Epoch 9/10\n",
      "782/782 - 11s - loss: 0.9138 - accuracy: 0.7401 - 11s/epoch - 14ms/step\n",
      "Epoch 10/10\n",
      "782/782 - 11s - loss: 0.8914 - accuracy: 0.7508 - 11s/epoch - 13ms/step\n"
     ]
    },
    {
     "data": {
      "text/plain": [
       "<keras.callbacks.History at 0x1fdc8155870>"
      ]
     },
     "execution_count": 34,
     "metadata": {},
     "output_type": "execute_result"
    }
   ],
   "execution_count": 34
  },
  {
   "metadata": {
    "ExecuteTime": {
     "end_time": "2024-10-24T17:11:13.749460Z",
     "start_time": "2024-10-24T17:11:09.495484Z"
    }
   },
   "cell_type": "code",
   "source": "model2.evaluate(x_test, y_test, verbose=2)",
   "id": "e69dcb4dbc6f2044",
   "outputs": [
    {
     "name": "stdout",
     "output_type": "stream",
     "text": [
      "313/313 - 4s - loss: 1.8212 - accuracy: 0.5583 - 4s/epoch - 13ms/step\n"
     ]
    },
    {
     "data": {
      "text/plain": [
       "[1.8212339878082275, 0.5583000183105469]"
      ]
     },
     "execution_count": 35,
     "metadata": {},
     "output_type": "execute_result"
    }
   ],
   "execution_count": 35
  }
 ],
 "metadata": {
  "kernelspec": {
   "display_name": "Python 3",
   "language": "python",
   "name": "python3"
  },
  "language_info": {
   "codemirror_mode": {
    "name": "ipython",
    "version": 2
   },
   "file_extension": ".py",
   "mimetype": "text/x-python",
   "name": "python",
   "nbconvert_exporter": "python",
   "pygments_lexer": "ipython2",
   "version": "2.7.6"
  }
 },
 "nbformat": 4,
 "nbformat_minor": 5
}
