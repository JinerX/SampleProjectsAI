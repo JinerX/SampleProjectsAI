{
 "cells": [
  {
   "cell_type": "code",
   "id": "initial_id",
   "metadata": {
    "collapsed": true,
    "ExecuteTime": {
     "end_time": "2024-10-29T15:47:07.399627Z",
     "start_time": "2024-10-29T15:47:07.383358Z"
    }
   },
   "source": [
    "import tensorflow as tf\n",
    "from tensorflow.keras.models import Sequential\n",
    "from tensorflow.keras.layers import Embedding, Dense, Dropout, SimpleRNN\n",
    "from tensorflow.keras.layers import TextVectorization\n",
    "from tensorflow.keras.regularizers import l2\n",
    "\n",
    "import numpy as np\n",
    "import pandas as pd\n",
    "import re\n"
   ],
   "outputs": [],
   "execution_count": 20
  },
  {
   "metadata": {
    "ExecuteTime": {
     "end_time": "2024-10-29T15:47:07.415585Z",
     "start_time": "2024-10-29T15:47:07.410389Z"
    }
   },
   "cell_type": "code",
   "source": [
    "# Hyperparams\n",
    "vocab_size = 10000\n",
    "sequence_length = 100\n",
    "embedding_size = 256\n",
    "batch_size = 64\n",
    "epochs = 5\n",
    "TRAIN_TEST_SPLIT = 0.8"
   ],
   "id": "2f03202385877729",
   "outputs": [],
   "execution_count": 21
  },
  {
   "metadata": {
    "ExecuteTime": {
     "end_time": "2024-10-29T15:47:07.994570Z",
     "start_time": "2024-10-29T15:47:07.415585Z"
    }
   },
   "cell_type": "code",
   "source": [
    "data = pd.read_csv('IMDB Dataset.csv')\n",
    "data.replace({'positive': 1, 'negative': 0}, inplace=True)\n",
    "data.head()"
   ],
   "id": "edfacaedf78ef4b",
   "outputs": [
    {
     "name": "stderr",
     "output_type": "stream",
     "text": [
      "C:\\Users\\JS\\AppData\\Local\\Temp\\ipykernel_10052\\3112354220.py:2: FutureWarning: Downcasting behavior in `replace` is deprecated and will be removed in a future version. To retain the old behavior, explicitly call `result.infer_objects(copy=False)`. To opt-in to the future behavior, set `pd.set_option('future.no_silent_downcasting', True)`\n",
      "  data.replace({'positive': 1, 'negative': 0}, inplace=True)\n"
     ]
    },
    {
     "data": {
      "text/plain": [
       "                                              review  sentiment\n",
       "0  One of the other reviewers has mentioned that ...          1\n",
       "1  A wonderful little production. <br /><br />The...          1\n",
       "2  I thought this was a wonderful way to spend ti...          1\n",
       "3  Basically there's a family where a little boy ...          0\n",
       "4  Petter Mattei's \"Love in the Time of Money\" is...          1"
      ],
      "text/html": [
       "<div>\n",
       "<style scoped>\n",
       "    .dataframe tbody tr th:only-of-type {\n",
       "        vertical-align: middle;\n",
       "    }\n",
       "\n",
       "    .dataframe tbody tr th {\n",
       "        vertical-align: top;\n",
       "    }\n",
       "\n",
       "    .dataframe thead th {\n",
       "        text-align: right;\n",
       "    }\n",
       "</style>\n",
       "<table border=\"1\" class=\"dataframe\">\n",
       "  <thead>\n",
       "    <tr style=\"text-align: right;\">\n",
       "      <th></th>\n",
       "      <th>review</th>\n",
       "      <th>sentiment</th>\n",
       "    </tr>\n",
       "  </thead>\n",
       "  <tbody>\n",
       "    <tr>\n",
       "      <th>0</th>\n",
       "      <td>One of the other reviewers has mentioned that ...</td>\n",
       "      <td>1</td>\n",
       "    </tr>\n",
       "    <tr>\n",
       "      <th>1</th>\n",
       "      <td>A wonderful little production. &lt;br /&gt;&lt;br /&gt;The...</td>\n",
       "      <td>1</td>\n",
       "    </tr>\n",
       "    <tr>\n",
       "      <th>2</th>\n",
       "      <td>I thought this was a wonderful way to spend ti...</td>\n",
       "      <td>1</td>\n",
       "    </tr>\n",
       "    <tr>\n",
       "      <th>3</th>\n",
       "      <td>Basically there's a family where a little boy ...</td>\n",
       "      <td>0</td>\n",
       "    </tr>\n",
       "    <tr>\n",
       "      <th>4</th>\n",
       "      <td>Petter Mattei's \"Love in the Time of Money\" is...</td>\n",
       "      <td>1</td>\n",
       "    </tr>\n",
       "  </tbody>\n",
       "</table>\n",
       "</div>"
      ]
     },
     "execution_count": 22,
     "metadata": {},
     "output_type": "execute_result"
    }
   ],
   "execution_count": 22
  },
  {
   "metadata": {
    "ExecuteTime": {
     "end_time": "2024-10-29T15:47:08.010635Z",
     "start_time": "2024-10-29T15:47:07.994570Z"
    }
   },
   "cell_type": "code",
   "source": "print(data['review'][0])",
   "id": "30a70303face5808",
   "outputs": [
    {
     "name": "stdout",
     "output_type": "stream",
     "text": [
      "One of the other reviewers has mentioned that after watching just 1 Oz episode you'll be hooked. They are right, as this is exactly what happened with me.<br /><br />The first thing that struck me about Oz was its brutality and unflinching scenes of violence, which set in right from the word GO. Trust me, this is not a show for the faint hearted or timid. This show pulls no punches with regards to drugs, sex or violence. Its is hardcore, in the classic use of the word.<br /><br />It is called OZ as that is the nickname given to the Oswald Maximum Security State Penitentary. It focuses mainly on Emerald City, an experimental section of the prison where all the cells have glass fronts and face inwards, so privacy is not high on the agenda. Em City is home to many..Aryans, Muslims, gangstas, Latinos, Christians, Italians, Irish and more....so scuffles, death stares, dodgy dealings and shady agreements are never far away.<br /><br />I would say the main appeal of the show is due to the fact that it goes where other shows wouldn't dare. Forget pretty pictures painted for mainstream audiences, forget charm, forget romance...OZ doesn't mess around. The first episode I ever saw struck me as so nasty it was surreal, I couldn't say I was ready for it, but as I watched more, I developed a taste for Oz, and got accustomed to the high levels of graphic violence. Not just violence, but injustice (crooked guards who'll be sold out for a nickel, inmates who'll kill on order and get away with it, well mannered, middle class inmates being turned into prison bitches due to their lack of street skills or prison experience) Watching Oz, you may become comfortable with what is uncomfortable viewing....thats if you can get in touch with your darker side.\n"
     ]
    }
   ],
   "execution_count": 23
  },
  {
   "metadata": {
    "ExecuteTime": {
     "end_time": "2024-10-29T15:47:08.026309Z",
     "start_time": "2024-10-29T15:47:08.010635Z"
    }
   },
   "cell_type": "code",
   "source": [
    "#removing <br > function\n",
    "def remove_html(row):\n",
    "    result = re.sub(r\"<br />\", \"\", row['review'])\n",
    "    return result"
   ],
   "id": "ec8157fa9c6802ed",
   "outputs": [],
   "execution_count": 24
  },
  {
   "metadata": {
    "ExecuteTime": {
     "end_time": "2024-10-29T15:47:08.603990Z",
     "start_time": "2024-10-29T15:47:08.026309Z"
    }
   },
   "cell_type": "code",
   "source": [
    "data['review'] = data.apply(remove_html, axis=1)\n",
    "data.head()['review'][0]"
   ],
   "id": "aec95977b0a114e",
   "outputs": [
    {
     "data": {
      "text/plain": [
       "\"One of the other reviewers has mentioned that after watching just 1 Oz episode you'll be hooked. They are right, as this is exactly what happened with me.The first thing that struck me about Oz was its brutality and unflinching scenes of violence, which set in right from the word GO. Trust me, this is not a show for the faint hearted or timid. This show pulls no punches with regards to drugs, sex or violence. Its is hardcore, in the classic use of the word.It is called OZ as that is the nickname given to the Oswald Maximum Security State Penitentary. It focuses mainly on Emerald City, an experimental section of the prison where all the cells have glass fronts and face inwards, so privacy is not high on the agenda. Em City is home to many..Aryans, Muslims, gangstas, Latinos, Christians, Italians, Irish and more....so scuffles, death stares, dodgy dealings and shady agreements are never far away.I would say the main appeal of the show is due to the fact that it goes where other shows wouldn't dare. Forget pretty pictures painted for mainstream audiences, forget charm, forget romance...OZ doesn't mess around. The first episode I ever saw struck me as so nasty it was surreal, I couldn't say I was ready for it, but as I watched more, I developed a taste for Oz, and got accustomed to the high levels of graphic violence. Not just violence, but injustice (crooked guards who'll be sold out for a nickel, inmates who'll kill on order and get away with it, well mannered, middle class inmates being turned into prison bitches due to their lack of street skills or prison experience) Watching Oz, you may become comfortable with what is uncomfortable viewing....thats if you can get in touch with your darker side.\""
      ]
     },
     "execution_count": 25,
     "metadata": {},
     "output_type": "execute_result"
    }
   ],
   "execution_count": 25
  },
  {
   "metadata": {
    "ExecuteTime": {
     "end_time": "2024-10-29T15:47:08.635598Z",
     "start_time": "2024-10-29T15:47:08.603990Z"
    }
   },
   "cell_type": "code",
   "source": [
    "d = data.to_numpy()\n",
    "texts = d[:,0]\n",
    "X_train = texts[:int(len(texts)*TRAIN_TEST_SPLIT)]\n",
    "X_test = texts[int(len(texts)*TRAIN_TEST_SPLIT):]\n",
    "labels = d[:,1]\n",
    "y_train = labels[:int(len(texts)*TRAIN_TEST_SPLIT)]\n",
    "y_test = labels[int(len(texts)*TRAIN_TEST_SPLIT):]"
   ],
   "id": "4fff63602f7785d8",
   "outputs": [],
   "execution_count": 26
  },
  {
   "metadata": {
    "ExecuteTime": {
     "end_time": "2024-10-29T15:47:08.650732Z",
     "start_time": "2024-10-29T15:47:08.635598Z"
    }
   },
   "cell_type": "code",
   "source": [
    "vectorize_layer = TextVectorization(\n",
    "    max_tokens=vocab_size,\n",
    "    output_mode='int',\n",
    "    output_sequence_length=sequence_length,\n",
    "    name='textvectorizer'\n",
    ")"
   ],
   "id": "9253db9f590f11dd",
   "outputs": [],
   "execution_count": 27
  },
  {
   "metadata": {
    "ExecuteTime": {
     "end_time": "2024-10-29T15:47:12.285909Z",
     "start_time": "2024-10-29T15:47:08.651735Z"
    }
   },
   "cell_type": "code",
   "source": "vectorize_layer.adapt(X_train)",
   "id": "a5c01b6775ec323e",
   "outputs": [],
   "execution_count": 28
  },
  {
   "metadata": {
    "ExecuteTime": {
     "end_time": "2024-10-29T15:47:15.020618Z",
     "start_time": "2024-10-29T15:47:12.285909Z"
    }
   },
   "cell_type": "code",
   "source": [
    "vectorized_train = vectorize_layer(X_train)\n",
    "vectorized_test = vectorize_layer(X_test)"
   ],
   "id": "97e59633b102dfca",
   "outputs": [],
   "execution_count": 29
  },
  {
   "metadata": {
    "ExecuteTime": {
     "end_time": "2024-10-29T15:47:15.115376Z",
     "start_time": "2024-10-29T15:47:15.020618Z"
    }
   },
   "cell_type": "code",
   "source": [
    "# Step 2: Model Definition\n",
    "model = Sequential([\n",
    "    Embedding(vocab_size, embedding_size, name=\"embedding\"),\n",
    "    SimpleRNN(20, name=\"rnn\"),\n",
    "    Dropout(0.3),\n",
    "    Dense(1,activation=\"sigmoid\", name=\"output\")\n",
    "])"
   ],
   "id": "11024c00a4408c9f",
   "outputs": [],
   "execution_count": 30
  },
  {
   "metadata": {
    "ExecuteTime": {
     "end_time": "2024-10-29T15:47:15.131435Z",
     "start_time": "2024-10-29T15:47:15.115376Z"
    }
   },
   "cell_type": "code",
   "source": [
    "# Step 3: Compile the Model\n",
    "model.compile(optimizer=tf.keras.optimizers.Adam(learning_rate=0.001), loss=tf.keras.losses.BinaryCrossentropy(from_logits=False), metrics=['accuracy'])\n"
   ],
   "id": "6b5597fd86a62830",
   "outputs": [],
   "execution_count": 31
  },
  {
   "metadata": {
    "ExecuteTime": {
     "end_time": "2024-10-29T15:47:15.147299Z",
     "start_time": "2024-10-29T15:47:15.131435Z"
    }
   },
   "cell_type": "code",
   "source": [
    "y_train = np.array(y_train,dtype='float32')\n",
    "y_test = np.array(y_test,dtype='float32')"
   ],
   "id": "a20bb7200edf47bc",
   "outputs": [],
   "execution_count": 32
  },
  {
   "metadata": {
    "ExecuteTime": {
     "end_time": "2024-10-29T15:48:57.900465Z",
     "start_time": "2024-10-29T15:47:15.147299Z"
    }
   },
   "cell_type": "code",
   "source": [
    "# Step 4: Train the Model\n",
    "model.fit(vectorized_train, y_train, epochs=5, verbose=1, batch_size=batch_size)"
   ],
   "id": "d5e3e7ad67663070",
   "outputs": [
    {
     "name": "stdout",
     "output_type": "stream",
     "text": [
      "Epoch 1/5\n",
      "625/625 [==============================] - 22s 34ms/step - loss: 0.5929 - accuracy: 0.6950\n",
      "Epoch 2/5\n",
      "625/625 [==============================] - 20s 33ms/step - loss: 0.4801 - accuracy: 0.7893\n",
      "Epoch 3/5\n",
      "625/625 [==============================] - 21s 33ms/step - loss: 0.5286 - accuracy: 0.7247\n",
      "Epoch 4/5\n",
      "625/625 [==============================] - 20s 32ms/step - loss: 0.5560 - accuracy: 0.7267\n",
      "Epoch 5/5\n",
      "625/625 [==============================] - 20s 32ms/step - loss: 0.4443 - accuracy: 0.7994\n"
     ]
    },
    {
     "data": {
      "text/plain": [
       "<keras.callbacks.History at 0x1ab2c3dba90>"
      ]
     },
     "execution_count": 33,
     "metadata": {},
     "output_type": "execute_result"
    }
   ],
   "execution_count": 33
  },
  {
   "metadata": {
    "ExecuteTime": {
     "end_time": "2024-10-29T15:48:59.835623Z",
     "start_time": "2024-10-29T15:48:57.900465Z"
    }
   },
   "cell_type": "code",
   "source": "model.evaluate(vectorized_test, y_test, verbose=1)",
   "id": "6844e5d847f10c73",
   "outputs": [
    {
     "name": "stdout",
     "output_type": "stream",
     "text": [
      "313/313 [==============================] - 2s 5ms/step - loss: 0.6466 - accuracy: 0.7178\n"
     ]
    },
    {
     "data": {
      "text/plain": [
       "[0.6465654373168945, 0.7178000211715698]"
      ]
     },
     "execution_count": 34,
     "metadata": {},
     "output_type": "execute_result"
    }
   ],
   "execution_count": 34
  },
  {
   "metadata": {
    "ExecuteTime": {
     "end_time": "2024-10-29T15:48:59.851658Z",
     "start_time": "2024-10-29T15:48:59.835623Z"
    }
   },
   "cell_type": "code",
   "source": "print(data['review'][0])",
   "id": "50de2111c182ead5",
   "outputs": [
    {
     "name": "stdout",
     "output_type": "stream",
     "text": [
      "One of the other reviewers has mentioned that after watching just 1 Oz episode you'll be hooked. They are right, as this is exactly what happened with me.The first thing that struck me about Oz was its brutality and unflinching scenes of violence, which set in right from the word GO. Trust me, this is not a show for the faint hearted or timid. This show pulls no punches with regards to drugs, sex or violence. Its is hardcore, in the classic use of the word.It is called OZ as that is the nickname given to the Oswald Maximum Security State Penitentary. It focuses mainly on Emerald City, an experimental section of the prison where all the cells have glass fronts and face inwards, so privacy is not high on the agenda. Em City is home to many..Aryans, Muslims, gangstas, Latinos, Christians, Italians, Irish and more....so scuffles, death stares, dodgy dealings and shady agreements are never far away.I would say the main appeal of the show is due to the fact that it goes where other shows wouldn't dare. Forget pretty pictures painted for mainstream audiences, forget charm, forget romance...OZ doesn't mess around. The first episode I ever saw struck me as so nasty it was surreal, I couldn't say I was ready for it, but as I watched more, I developed a taste for Oz, and got accustomed to the high levels of graphic violence. Not just violence, but injustice (crooked guards who'll be sold out for a nickel, inmates who'll kill on order and get away with it, well mannered, middle class inmates being turned into prison bitches due to their lack of street skills or prison experience) Watching Oz, you may become comfortable with what is uncomfortable viewing....thats if you can get in touch with your darker side.\n"
     ]
    }
   ],
   "execution_count": 35
  },
  {
   "metadata": {
    "ExecuteTime": {
     "end_time": "2024-10-29T15:49:00.049590Z",
     "start_time": "2024-10-29T15:48:59.851658Z"
    }
   },
   "cell_type": "code",
   "source": [
    "# Make a prediction on a single review\n",
    "vectorized_example = vectorize_layer(tf.convert_to_tensor([data['review'][0]]))  # Convert to tensor and add batch dimension\n",
    "print(\"model prediction: \", model.predict(vectorized_example, verbose=0), \"true value: \", data['sentiment'][0])"
   ],
   "id": "d9bf2dbe57dc2379",
   "outputs": [
    {
     "name": "stdout",
     "output_type": "stream",
     "text": [
      "model prediction:  [[0.90803456]] true value:  1\n"
     ]
    }
   ],
   "execution_count": 36
  },
  {
   "metadata": {
    "ExecuteTime": {
     "end_time": "2024-10-29T15:49:00.567641Z",
     "start_time": "2024-10-29T15:49:00.049590Z"
    }
   },
   "cell_type": "code",
   "source": [
    "for i in range(10):\n",
    "    print(i,\"review: \",data['review'][i])\n",
    "    vectorized_example = vectorize_layer(tf.convert_to_tensor([data['review'][i]]))\n",
    "    print(\"model prediction: \", model.predict(vectorized_example, verbose=0))\n",
    "    print(\"true value: \",data['sentiment'][i])"
   ],
   "id": "3faef29b952ecc7a",
   "outputs": [
    {
     "name": "stdout",
     "output_type": "stream",
     "text": [
      "0 review:  One of the other reviewers has mentioned that after watching just 1 Oz episode you'll be hooked. They are right, as this is exactly what happened with me.The first thing that struck me about Oz was its brutality and unflinching scenes of violence, which set in right from the word GO. Trust me, this is not a show for the faint hearted or timid. This show pulls no punches with regards to drugs, sex or violence. Its is hardcore, in the classic use of the word.It is called OZ as that is the nickname given to the Oswald Maximum Security State Penitentary. It focuses mainly on Emerald City, an experimental section of the prison where all the cells have glass fronts and face inwards, so privacy is not high on the agenda. Em City is home to many..Aryans, Muslims, gangstas, Latinos, Christians, Italians, Irish and more....so scuffles, death stares, dodgy dealings and shady agreements are never far away.I would say the main appeal of the show is due to the fact that it goes where other shows wouldn't dare. Forget pretty pictures painted for mainstream audiences, forget charm, forget romance...OZ doesn't mess around. The first episode I ever saw struck me as so nasty it was surreal, I couldn't say I was ready for it, but as I watched more, I developed a taste for Oz, and got accustomed to the high levels of graphic violence. Not just violence, but injustice (crooked guards who'll be sold out for a nickel, inmates who'll kill on order and get away with it, well mannered, middle class inmates being turned into prison bitches due to their lack of street skills or prison experience) Watching Oz, you may become comfortable with what is uncomfortable viewing....thats if you can get in touch with your darker side.\n",
      "model prediction:  [[0.90803456]]\n",
      "true value:  1\n",
      "1 review:  A wonderful little production. The filming technique is very unassuming- very old-time-BBC fashion and gives a comforting, and sometimes discomforting, sense of realism to the entire piece. The actors are extremely well chosen- Michael Sheen not only \"has got all the polari\" but he has all the voices down pat too! You can truly see the seamless editing guided by the references to Williams' diary entries, not only is it well worth the watching but it is a terrificly written and performed piece. A masterful production about one of the great master's of comedy and his life. The realism really comes home with the little things: the fantasy of the guard which, rather than use the traditional 'dream' techniques remains solid then disappears. It plays on our knowledge and our senses, particularly with the scenes concerning Orton and Halliwell and the sets (particularly of their flat with Halliwell's murals decorating every surface) are terribly well done.\n",
      "model prediction:  [[0.8900084]]\n",
      "true value:  1\n",
      "2 review:  I thought this was a wonderful way to spend time on a too hot summer weekend, sitting in the air conditioned theater and watching a light-hearted comedy. The plot is simplistic, but the dialogue is witty and the characters are likable (even the well bread suspected serial killer). While some may be disappointed when they realize this is not Match Point 2: Risk Addiction, I thought it was proof that Woody Allen is still fully in control of the style many of us have grown to love.This was the most I'd laughed at one of Woody's comedies in years (dare I say a decade?). While I've never been impressed with Scarlet Johanson, in this she managed to tone down her \"sexy\" image and jumped right into a average, but spirited young woman.This may not be the crown jewel of his career, but it was wittier than \"Devil Wears Prada\" and more interesting than \"Superman\" a great comedy to go see with friends.\n",
      "model prediction:  [[0.09046598]]\n",
      "true value:  1\n",
      "3 review:  Basically there's a family where a little boy (Jake) thinks there's a zombie in his closet & his parents are fighting all the time.This movie is slower than a soap opera... and suddenly, Jake decides to become Rambo and kill the zombie.OK, first of all when you're going to make a film you must Decide if its a thriller or a drama! As a drama the movie is watchable. Parents are divorcing & arguing like in real life. And then we have Jake with his closet which totally ruins all the film! I expected to see a BOOGEYMAN similar movie, and instead i watched a drama with some meaningless thriller spots.3 out of 10 just for the well playing parents & descent dialogs. As for the shots with Jake: just ignore them.\n",
      "model prediction:  [[0.7042589]]\n",
      "true value:  0\n",
      "4 review:  Petter Mattei's \"Love in the Time of Money\" is a visually stunning film to watch. Mr. Mattei offers us a vivid portrait about human relations. This is a movie that seems to be telling us what money, power and success do to people in the different situations we encounter. This being a variation on the Arthur Schnitzler's play about the same theme, the director transfers the action to the present time New York where all these different characters meet and connect. Each one is connected in one way, or another to the next person, but no one seems to know the previous point of contact. Stylishly, the film has a sophisticated luxurious look. We are taken to see how these people live and the world they live in their own habitat.The only thing one gets out of all these souls in the picture is the different stages of loneliness each one inhabits. A big city is not exactly the best place in which human relations find sincere fulfillment, as one discerns is the case with most of the people we encounter.The acting is good under Mr. Mattei's direction. Steve Buscemi, Rosario Dawson, Carol Kane, Michael Imperioli, Adrian Grenier, and the rest of the talented cast, make these characters come alive.We wish Mr. Mattei good luck and await anxiously for his next work.\n",
      "model prediction:  [[0.805598]]\n",
      "true value:  1\n",
      "5 review:  Probably my all-time favorite movie, a story of selflessness, sacrifice and dedication to a noble cause, but it's not preachy or boring. It just never gets old, despite my having seen it some 15 or more times in the last 25 years. Paul Lukas' performance brings tears to my eyes, and Bette Davis, in one of her very few truly sympathetic roles, is a delight. The kids are, as grandma says, more like \"dressed-up midgets\" than children, but that only makes them more fun to watch. And the mother's slow awakening to what's happening in the world and under her own roof is believable and startling. If I had a dozen thumbs, they'd all be \"up\" for this movie.\n",
      "model prediction:  [[0.90768373]]\n",
      "true value:  1\n",
      "6 review:  I sure would like to see a resurrection of a up dated Seahunt series with the tech they have today it would bring back the kid excitement in me.I grew up on black and white TV and Seahunt with Gunsmoke were my hero's every week.You have my vote for a comeback of a new sea hunt.We need a change of pace in TV and this would work for a world of under water adventure.Oh by the way thank you for an outlet like this to view many viewpoints about TV and the many movies.So any ole way I believe I've got what I wanna say.Would be nice to read some more plus points about sea hunt.If my rhymes would be 10 lines would you let me submit,or leave me out to be in doubt and have me to quit,If this is so then I must go so lets do it.\n",
      "model prediction:  [[0.2394386]]\n",
      "true value:  1\n",
      "7 review:  This show was an amazing, fresh & innovative idea in the 70's when it first aired. The first 7 or 8 years were brilliant, but things dropped off after that. By 1990, the show was not really funny anymore, and it's continued its decline further to the complete waste of time it is today.It's truly disgraceful how far this show has fallen. The writing is painfully bad, the performances are almost as bad - if not for the mildly entertaining respite of the guest-hosts, this show probably wouldn't still be on the air. I find it so hard to believe that the same creator that hand-selected the original cast also chose the band of hacks that followed. How can one recognize such brilliance and then see fit to replace it with such mediocrity? I felt I must give 2 stars out of respect for the original cast that made this show such a huge success. As it is now, the show is just awful. I can't believe it's still on the air.\n",
      "model prediction:  [[0.06533107]]\n",
      "true value:  0\n",
      "8 review:  Encouraged by the positive comments about this film on here I was looking forward to watching this film. Bad mistake. I've seen 950+ films and this is truly one of the worst of them - it's awful in almost every way: editing, pacing, storyline, 'acting,' soundtrack (the film's only song - a lame country tune - is played no less than four times). The film looks cheap and nasty and is boring in the extreme. Rarely have I been so happy to see the end credits of a film. The only thing that prevents me giving this a 1-score is Harvey Keitel - while this is far from his best performance he at least seems to be making a bit of an effort. One for Keitel obsessives only.\n",
      "model prediction:  [[0.0351329]]\n",
      "true value:  0\n",
      "9 review:  If you like original gut wrenching laughter you will like this movie. If you are young or old then you will love this movie, hell even my mom liked it.Great Camp!!!\n",
      "model prediction:  [[0.08442207]]\n",
      "true value:  1\n"
     ]
    }
   ],
   "execution_count": 37
  },
  {
   "metadata": {
    "ExecuteTime": {
     "end_time": "2024-10-29T15:49:00.727633Z",
     "start_time": "2024-10-29T15:49:00.567641Z"
    }
   },
   "cell_type": "code",
   "source": [
    "custom_reviews = [\"This movie is absolutely horrible I couldn't sit through all of it\", \"I love this movie, it's the greatest thing since the invention of sliced bread!\",\"I would rather to swallow a gallon gasoline rather than watch 5 more minutes of this horrible trash\"]\n",
    "custom_labels = [0,1,0]\n",
    "\n",
    "for i in range(len(custom_labels)):\n",
    "    print(f\"{i} review: {custom_reviews[i]}\")\n",
    "    \n",
    "    vectorized_example = vectorize_layer(tf.convert_to_tensor([custom_reviews[i]]))\n",
    "    \n",
    "    prediction = model.predict(vectorized_example, verbose=0)\n",
    "    print(\"model prediction: \", prediction[0][0])\n",
    "    print(\"true value: \", custom_labels[i], \"\\n\")"
   ],
   "id": "d2e3f1485a0912af",
   "outputs": [
    {
     "name": "stdout",
     "output_type": "stream",
     "text": [
      "0 review: This movie is absolutely horrible I couldn't sit through all of it\n",
      "model prediction:  0.084422946\n",
      "true value:  0 \n",
      "\n",
      "1 review: I love this movie, it's the greatest thing since the invention of sliced bread!\n",
      "model prediction:  0.75885\n",
      "true value:  1 \n",
      "\n",
      "2 review: I would rather to swallow a gallon gasoline rather than watch 5 more minutes of this horrible trash\n",
      "model prediction:  0.08442303\n",
      "true value:  0 \n",
      "\n"
     ]
    }
   ],
   "execution_count": 38
  },
  {
   "metadata": {},
   "cell_type": "markdown",
   "source": [
    "# Source:\n",
    "https://www.kaggle.com/datasets/lakshmi25npathi/imdb-dataset-of-50k-movie-reviews\n",
    "\n",
    "inspired by https://www.youtube.com/watch?v=FTCpdNuIiZM&t=4s"
   ],
   "id": "3606392ec81cca77"
  }
 ],
 "metadata": {
  "kernelspec": {
   "display_name": "Python 3",
   "language": "python",
   "name": "python3"
  },
  "language_info": {
   "codemirror_mode": {
    "name": "ipython",
    "version": 2
   },
   "file_extension": ".py",
   "mimetype": "text/x-python",
   "name": "python",
   "nbconvert_exporter": "python",
   "pygments_lexer": "ipython2",
   "version": "2.7.6"
  }
 },
 "nbformat": 4,
 "nbformat_minor": 5
}
