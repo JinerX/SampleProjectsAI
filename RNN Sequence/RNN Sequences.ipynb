{
 "cells": [
  {
   "cell_type": "code",
   "id": "initial_id",
   "metadata": {
    "collapsed": true,
    "ExecuteTime": {
     "end_time": "2024-10-27T15:57:51.328475Z",
     "start_time": "2024-10-27T15:57:47.189956Z"
    }
   },
   "source": [
    "import numpy as np\n",
    "import pandas as pd\n",
    "import matplotlib.pyplot as plt\n",
    "import string\n",
    "import re\n",
    "import os\n",
    "\n",
    "import tensorflow as tf\n",
    "from tensorflow import keras\n",
    "\n",
    "from keras.models import Sequential\n",
    "from keras.layers import SimpleRNN, Dense\n",
    "from keras.layers import TextVectorization\n",
    "\n",
    "from keras.optimizers import Adam\n",
    "\n",
    "from sklearn.linear_model import LinearRegression"
   ],
   "outputs": [],
   "execution_count": 1
  },
  {
   "metadata": {
    "ExecuteTime": {
     "end_time": "2024-10-27T16:09:04.505391Z",
     "start_time": "2024-10-27T16:09:04.493763Z"
    }
   },
   "cell_type": "code",
   "source": [
    "sequence = np.array(list(range(10))).astype(float)\n",
    "sequence"
   ],
   "id": "2c7c7c681477465b",
   "outputs": [
    {
     "data": {
      "text/plain": [
       "array([0., 1., 2., 3., 4., 5., 6., 7., 8., 9.])"
      ]
     },
     "execution_count": 25,
     "metadata": {},
     "output_type": "execute_result"
    }
   ],
   "execution_count": 25
  },
  {
   "metadata": {
    "ExecuteTime": {
     "end_time": "2024-10-27T16:09:05.217504Z",
     "start_time": "2024-10-27T16:09:05.206312Z"
    }
   },
   "cell_type": "code",
   "source": "window_size = 3",
   "id": "208c1cc8ab2d617d",
   "outputs": [],
   "execution_count": 26
  },
  {
   "metadata": {
    "ExecuteTime": {
     "end_time": "2024-10-27T16:09:05.990378Z",
     "start_time": "2024-10-27T16:09:05.969903Z"
    }
   },
   "cell_type": "code",
   "source": [
    "train_data = [np.array(sequence[i:i+window_size]).reshape(1,-1) for i in range(sequence.shape[0]-window_size)]\n",
    "train_data = np.concatenate(train_data*10, axis=0)\n",
    "train_data = train_data.reshape(train_data.shape[0], train_data.shape[1], 1)"
   ],
   "id": "2e7f2b4fd73fb287",
   "outputs": [],
   "execution_count": 27
  },
  {
   "metadata": {
    "ExecuteTime": {
     "end_time": "2024-10-27T16:09:06.857306Z",
     "start_time": "2024-10-27T16:09:06.837309Z"
    }
   },
   "cell_type": "code",
   "source": "train_data.shape",
   "id": "9710943370ff051f",
   "outputs": [
    {
     "data": {
      "text/plain": [
       "(70, 3, 1)"
      ]
     },
     "execution_count": 28,
     "metadata": {},
     "output_type": "execute_result"
    }
   ],
   "execution_count": 28
  },
  {
   "metadata": {
    "ExecuteTime": {
     "end_time": "2024-10-27T16:09:07.384962Z",
     "start_time": "2024-10-27T16:09:07.366457Z"
    }
   },
   "cell_type": "code",
   "source": [
    "train_label = [sequence[i+window_size] for i in range(sequence.shape[0]-window_size)]\n",
    "train_label = np.concatenate([train_label]*10).reshape(-1,1)"
   ],
   "id": "2e8a0926e0159308",
   "outputs": [],
   "execution_count": 29
  },
  {
   "metadata": {
    "ExecuteTime": {
     "end_time": "2024-10-27T16:09:15.880090Z",
     "start_time": "2024-10-27T16:09:14.308423Z"
    }
   },
   "cell_type": "code",
   "source": [
    "model = Sequential([\n",
    "    SimpleRNN(1,activation='linear')\n",
    "])\n",
    "\n",
    "model.compile(loss='mse', optimizer=Adam(learning_rate=1))\n",
    "\n",
    "model.fit(train_data, train_label, epochs=100, verbose=1)"
   ],
   "id": "8a4583d67c35745",
   "outputs": [
    {
     "name": "stdout",
     "output_type": "stream",
     "text": [
      "Epoch 1/100\n",
      "3/3 [==============================] - 1s 2ms/step - loss: 145.8821\n",
      "Epoch 2/100\n",
      "3/3 [==============================] - 0s 2ms/step - loss: 57.9178\n",
      "Epoch 3/100\n",
      "3/3 [==============================] - 0s 2ms/step - loss: 29.8402\n",
      "Epoch 4/100\n",
      "3/3 [==============================] - 0s 2ms/step - loss: 52.3642\n",
      "Epoch 5/100\n",
      "3/3 [==============================] - 0s 2ms/step - loss: 1.8492\n",
      "Epoch 6/100\n",
      "3/3 [==============================] - 0s 2ms/step - loss: 1.0062\n",
      "Epoch 7/100\n",
      "3/3 [==============================] - 0s 2ms/step - loss: 2.0932\n",
      "Epoch 8/100\n",
      "3/3 [==============================] - 0s 1ms/step - loss: 0.4223\n",
      "Epoch 9/100\n",
      "3/3 [==============================] - 0s 1ms/step - loss: 1.1618\n",
      "Epoch 10/100\n",
      "3/3 [==============================] - 0s 2ms/step - loss: 0.6993\n",
      "Epoch 11/100\n",
      "3/3 [==============================] - 0s 1ms/step - loss: 0.5377\n",
      "Epoch 12/100\n",
      "3/3 [==============================] - 0s 998us/step - loss: 0.4329\n",
      "Epoch 13/100\n",
      "3/3 [==============================] - 0s 2ms/step - loss: 0.2346\n",
      "Epoch 14/100\n",
      "3/3 [==============================] - 0s 997us/step - loss: 0.2964\n",
      "Epoch 15/100\n",
      "3/3 [==============================] - 0s 2ms/step - loss: 0.2198\n",
      "Epoch 16/100\n",
      "3/3 [==============================] - 0s 1ms/step - loss: 0.2124\n",
      "Epoch 17/100\n",
      "3/3 [==============================] - 0s 2ms/step - loss: 0.2235\n",
      "Epoch 18/100\n",
      "3/3 [==============================] - 0s 2ms/step - loss: 0.3150\n",
      "Epoch 19/100\n",
      "3/3 [==============================] - 0s 1ms/step - loss: 0.2315\n",
      "Epoch 20/100\n",
      "3/3 [==============================] - 0s 2ms/step - loss: 0.1383\n",
      "Epoch 21/100\n",
      "3/3 [==============================] - 0s 1ms/step - loss: 0.0840\n",
      "Epoch 22/100\n",
      "3/3 [==============================] - 0s 1ms/step - loss: 0.0478\n",
      "Epoch 23/100\n",
      "3/3 [==============================] - 0s 2ms/step - loss: 0.0281\n",
      "Epoch 24/100\n",
      "3/3 [==============================] - 0s 4ms/step - loss: 0.0264\n",
      "Epoch 25/100\n",
      "3/3 [==============================] - 0s 2ms/step - loss: 0.0215\n",
      "Epoch 26/100\n",
      "3/3 [==============================] - 0s 1ms/step - loss: 0.0100\n",
      "Epoch 27/100\n",
      "3/3 [==============================] - 0s 2ms/step - loss: 0.0141\n",
      "Epoch 28/100\n",
      "3/3 [==============================] - 0s 1ms/step - loss: 0.0074\n",
      "Epoch 29/100\n",
      "3/3 [==============================] - 0s 1ms/step - loss: 0.0060\n",
      "Epoch 30/100\n",
      "3/3 [==============================] - 0s 2ms/step - loss: 0.0067\n",
      "Epoch 31/100\n",
      "3/3 [==============================] - 0s 1ms/step - loss: 0.0019\n",
      "Epoch 32/100\n",
      "3/3 [==============================] - 0s 2ms/step - loss: 0.0017\n",
      "Epoch 33/100\n",
      "3/3 [==============================] - 0s 1ms/step - loss: 0.0026\n",
      "Epoch 34/100\n",
      "3/3 [==============================] - 0s 1ms/step - loss: 6.8424e-04\n",
      "Epoch 35/100\n",
      "3/3 [==============================] - 0s 2ms/step - loss: 5.3014e-04\n",
      "Epoch 36/100\n",
      "3/3 [==============================] - 0s 1ms/step - loss: 7.6132e-04\n",
      "Epoch 37/100\n",
      "3/3 [==============================] - 0s 1ms/step - loss: 4.8034e-04\n",
      "Epoch 38/100\n",
      "3/3 [==============================] - 0s 997us/step - loss: 4.5120e-04\n",
      "Epoch 39/100\n",
      "3/3 [==============================] - 0s 999us/step - loss: 2.0073e-04\n",
      "Epoch 40/100\n",
      "3/3 [==============================] - 0s 2ms/step - loss: 9.5414e-05\n",
      "Epoch 41/100\n",
      "3/3 [==============================] - 0s 998us/step - loss: 1.5116e-04\n",
      "Epoch 42/100\n",
      "3/3 [==============================] - 0s 1ms/step - loss: 1.0450e-04\n",
      "Epoch 43/100\n",
      "3/3 [==============================] - 0s 1ms/step - loss: 8.3220e-05\n",
      "Epoch 44/100\n",
      "3/3 [==============================] - 0s 2ms/step - loss: 6.0024e-05\n",
      "Epoch 45/100\n",
      "3/3 [==============================] - 0s 1ms/step - loss: 3.6337e-05\n",
      "Epoch 46/100\n",
      "3/3 [==============================] - 0s 998us/step - loss: 1.9636e-05\n",
      "Epoch 47/100\n",
      "3/3 [==============================] - 0s 2ms/step - loss: 1.6365e-05\n",
      "Epoch 48/100\n",
      "3/3 [==============================] - 0s 1ms/step - loss: 1.5526e-06\n",
      "Epoch 49/100\n",
      "3/3 [==============================] - 0s 2ms/step - loss: 4.3846e-06\n",
      "Epoch 50/100\n",
      "3/3 [==============================] - 0s 2ms/step - loss: 1.9615e-06\n",
      "Epoch 51/100\n",
      "3/3 [==============================] - 0s 1ms/step - loss: 1.5912e-06\n",
      "Epoch 52/100\n",
      "3/3 [==============================] - 0s 2ms/step - loss: 3.1488e-06\n",
      "Epoch 53/100\n",
      "3/3 [==============================] - 0s 1ms/step - loss: 2.0226e-06\n",
      "Epoch 54/100\n",
      "3/3 [==============================] - 0s 1ms/step - loss: 3.3594e-06\n",
      "Epoch 55/100\n",
      "3/3 [==============================] - 0s 1ms/step - loss: 1.5037e-06\n",
      "Epoch 56/100\n",
      "3/3 [==============================] - 0s 1ms/step - loss: 1.3463e-06\n",
      "Epoch 57/100\n",
      "3/3 [==============================] - 0s 2ms/step - loss: 1.7209e-06\n",
      "Epoch 58/100\n",
      "3/3 [==============================] - 0s 998us/step - loss: 1.0272e-06\n",
      "Epoch 59/100\n",
      "3/3 [==============================] - 0s 2ms/step - loss: 1.0523e-06\n",
      "Epoch 60/100\n",
      "3/3 [==============================] - 0s 2ms/step - loss: 3.8230e-07\n",
      "Epoch 61/100\n",
      "3/3 [==============================] - 0s 2ms/step - loss: 7.4842e-07\n",
      "Epoch 62/100\n",
      "3/3 [==============================] - 0s 2ms/step - loss: 3.0876e-07\n",
      "Epoch 63/100\n",
      "3/3 [==============================] - 0s 1ms/step - loss: 1.1837e-07\n",
      "Epoch 64/100\n",
      "3/3 [==============================] - 0s 1ms/step - loss: 4.4986e-07\n",
      "Epoch 65/100\n",
      "3/3 [==============================] - 0s 2ms/step - loss: 2.9920e-07\n",
      "Epoch 66/100\n",
      "3/3 [==============================] - 0s 1ms/step - loss: 1.7628e-07\n",
      "Epoch 67/100\n",
      "3/3 [==============================] - 0s 1ms/step - loss: 1.0517e-07\n",
      "Epoch 68/100\n",
      "3/3 [==============================] - 0s 2ms/step - loss: 8.4431e-08\n",
      "Epoch 69/100\n",
      "3/3 [==============================] - 0s 2ms/step - loss: 4.9484e-07\n",
      "Epoch 70/100\n",
      "3/3 [==============================] - 0s 1ms/step - loss: 3.0775e-07\n",
      "Epoch 71/100\n",
      "3/3 [==============================] - 0s 2ms/step - loss: 1.6379e-07\n",
      "Epoch 72/100\n",
      "3/3 [==============================] - 0s 1ms/step - loss: 2.8600e-07\n",
      "Epoch 73/100\n",
      "3/3 [==============================] - 0s 2ms/step - loss: 2.8200e-07\n",
      "Epoch 74/100\n",
      "3/3 [==============================] - 0s 1ms/step - loss: 8.2464e-08\n",
      "Epoch 75/100\n",
      "3/3 [==============================] - 0s 1ms/step - loss: 4.0997e-08\n",
      "Epoch 76/100\n",
      "3/3 [==============================] - 0s 2ms/step - loss: 1.2117e-08\n",
      "Epoch 77/100\n",
      "3/3 [==============================] - 0s 2ms/step - loss: 4.8169e-09\n",
      "Epoch 78/100\n",
      "3/3 [==============================] - 0s 2ms/step - loss: 2.6366e-09\n",
      "Epoch 79/100\n",
      "3/3 [==============================] - 0s 2ms/step - loss: 9.3670e-10\n",
      "Epoch 80/100\n",
      "3/3 [==============================] - 0s 1ms/step - loss: 3.8838e-09\n",
      "Epoch 81/100\n",
      "3/3 [==============================] - 0s 2ms/step - loss: 1.6998e-08\n",
      "Epoch 82/100\n",
      "3/3 [==============================] - 0s 2ms/step - loss: 1.0709e-08\n",
      "Epoch 83/100\n",
      "3/3 [==============================] - 0s 1ms/step - loss: 6.8913e-09\n",
      "Epoch 84/100\n",
      "3/3 [==============================] - 0s 2ms/step - loss: 3.9717e-09\n",
      "Epoch 85/100\n",
      "3/3 [==============================] - 0s 2ms/step - loss: 3.9158e-09\n",
      "Epoch 86/100\n",
      "3/3 [==============================] - 0s 1ms/step - loss: 2.9698e-09\n",
      "Epoch 87/100\n",
      "3/3 [==============================] - 0s 1ms/step - loss: 2.2222e-09\n",
      "Epoch 88/100\n",
      "3/3 [==============================] - 0s 2ms/step - loss: 9.7533e-10\n",
      "Epoch 89/100\n",
      "3/3 [==============================] - 0s 2ms/step - loss: 7.4297e-10\n",
      "Epoch 90/100\n",
      "3/3 [==============================] - 0s 1ms/step - loss: 5.5944e-10\n",
      "Epoch 91/100\n",
      "3/3 [==============================] - 0s 1ms/step - loss: 2.2692e-09\n",
      "Epoch 92/100\n",
      "3/3 [==============================] - 0s 1ms/step - loss: 5.1250e-09\n",
      "Epoch 93/100\n",
      "3/3 [==============================] - 0s 1ms/step - loss: 7.3653e-09\n",
      "Epoch 94/100\n",
      "3/3 [==============================] - 0s 2ms/step - loss: 2.2848e-08\n",
      "Epoch 95/100\n",
      "3/3 [==============================] - 0s 1ms/step - loss: 7.9112e-09\n",
      "Epoch 96/100\n",
      "3/3 [==============================] - 0s 2ms/step - loss: 5.0419e-09\n",
      "Epoch 97/100\n",
      "3/3 [==============================] - 0s 2ms/step - loss: 5.5759e-09\n",
      "Epoch 98/100\n",
      "3/3 [==============================] - 0s 1ms/step - loss: 1.9356e-08\n",
      "Epoch 99/100\n",
      "3/3 [==============================] - 0s 2ms/step - loss: 9.2522e-09\n",
      "Epoch 100/100\n",
      "3/3 [==============================] - 0s 2ms/step - loss: 4.9785e-09\n"
     ]
    },
    {
     "data": {
      "text/plain": [
       "<keras.callbacks.History at 0x263ebd86470>"
      ]
     },
     "execution_count": 31,
     "metadata": {},
     "output_type": "execute_result"
    }
   ],
   "execution_count": 31
  },
  {
   "metadata": {
    "ExecuteTime": {
     "end_time": "2024-10-27T16:09:17.554887Z",
     "start_time": "2024-10-27T16:09:17.532053Z"
    }
   },
   "cell_type": "code",
   "source": "model.summary()",
   "id": "f8657a664e3e06e3",
   "outputs": [
    {
     "name": "stdout",
     "output_type": "stream",
     "text": [
      "Model: \"sequential_8\"\n",
      "_________________________________________________________________\n",
      " Layer (type)                Output Shape              Param #   \n",
      "=================================================================\n",
      " simple_rnn_8 (SimpleRNN)    (None, 1)                 3         \n",
      "                                                                 \n",
      "=================================================================\n",
      "Total params: 3\n",
      "Trainable params: 3\n",
      "Non-trainable params: 0\n",
      "_________________________________________________________________\n"
     ]
    }
   ],
   "execution_count": 32
  },
  {
   "metadata": {
    "ExecuteTime": {
     "end_time": "2024-10-27T16:09:20.319682Z",
     "start_time": "2024-10-27T16:09:20.133069Z"
    }
   },
   "cell_type": "code",
   "source": "preds = model.predict(train_data).flatten()",
   "id": "64d016dfb0fe3a10",
   "outputs": [
    {
     "name": "stdout",
     "output_type": "stream",
     "text": [
      "3/3 [==============================] - 0s 2ms/step\n"
     ]
    }
   ],
   "execution_count": 33
  },
  {
   "metadata": {
    "ExecuteTime": {
     "end_time": "2024-10-27T16:09:21.353622Z",
     "start_time": "2024-10-27T16:09:21.346466Z"
    }
   },
   "cell_type": "code",
   "source": [
    "for i in range(len(preds[:3])):\n",
    "    example = train_data[i].flatten()\n",
    "    pred = preds[i]\n",
    "    print(\"example: \",example,\"pred: \", pred)"
   ],
   "id": "6371678fd0bd295d",
   "outputs": [
    {
     "name": "stdout",
     "output_type": "stream",
     "text": [
      "example:  [0. 1. 2.] pred:  3.0000029\n",
      "example:  [1. 2. 3.] pred:  4.000018\n",
      "example:  [2. 3. 4.] pred:  5.0000324\n"
     ]
    }
   ],
   "execution_count": 34
  },
  {
   "metadata": {
    "ExecuteTime": {
     "end_time": "2024-10-27T16:09:58.701667Z",
     "start_time": "2024-10-27T16:09:58.693614Z"
    }
   },
   "cell_type": "code",
   "source": "out_of_sample_data = np.array([[6,7,8], [7,8,9], [8,9,10], [9,10,11], [10,11,12]]).reshape(5,3,1)",
   "id": "56897c3918fb7271",
   "outputs": [],
   "execution_count": 35
  },
  {
   "metadata": {
    "ExecuteTime": {
     "end_time": "2024-10-27T16:10:44.671186Z",
     "start_time": "2024-10-27T16:10:44.492689Z"
    }
   },
   "cell_type": "code",
   "source": [
    "#make predictions using the model\n",
    "preds = model.predict(out_of_sample_data).flatten()"
   ],
   "id": "14cdfcb64b43c0f7",
   "outputs": [
    {
     "name": "stdout",
     "output_type": "stream",
     "text": [
      "1/1 [==============================] - 0s 131ms/step\n"
     ]
    }
   ],
   "execution_count": 37
  },
  {
   "metadata": {
    "ExecuteTime": {
     "end_time": "2024-10-27T16:10:45.760293Z",
     "start_time": "2024-10-27T16:10:45.747569Z"
    }
   },
   "cell_type": "code",
   "source": [
    "for i in range(len(preds)):\n",
    "    example = out_of_sample_data[i].flatten()\n",
    "    pred = preds[i]\n",
    "    print(f'{example} -> {pred}')"
   ],
   "id": "fc657a44bfa964d1",
   "outputs": [
    {
     "name": "stdout",
     "output_type": "stream",
     "text": [
      "[6 7 8] -> 9.000091552734375\n",
      "[7 8 9] -> 10.000106811523438\n",
      "[ 8  9 10] -> 11.000121116638184\n",
      "[ 9 10 11] -> 12.000136375427246\n",
      "[10 11 12] -> 13.000151634216309\n"
     ]
    }
   ],
   "execution_count": 38
  },
  {
   "metadata": {},
   "cell_type": "markdown",
   "source": "## Harder case",
   "id": "e308bd6f3d59fd47"
  },
  {
   "metadata": {
    "ExecuteTime": {
     "end_time": "2024-10-27T16:21:32.911572Z",
     "start_time": "2024-10-27T16:21:32.894278Z"
    }
   },
   "cell_type": "code",
   "source": [
    "def sigmoid(x):\n",
    "    return 1/(1+np.exp(-x))"
   ],
   "id": "e71cca37066ca34d",
   "outputs": [],
   "execution_count": 39
  },
  {
   "metadata": {
    "ExecuteTime": {
     "end_time": "2024-10-27T16:22:38.116705Z",
     "start_time": "2024-10-27T16:22:38.101259Z"
    }
   },
   "cell_type": "code",
   "source": [
    "sequence = np.sin(np.arange(0,6*3.14159,0.1))\n",
    "sequence += np.random.normal(0,0.05,len(sequence))"
   ],
   "id": "ada8bf65f86181a8",
   "outputs": [],
   "execution_count": 40
  },
  {
   "metadata": {
    "ExecuteTime": {
     "end_time": "2024-10-27T16:30:07.233271Z",
     "start_time": "2024-10-27T16:30:07.084109Z"
    }
   },
   "cell_type": "code",
   "source": [
    "plt.figure(figsize=(12,4))\n",
    "plt.plot(sequence)\n",
    "plt.scatter(range(len(sequence)), sequence)"
   ],
   "id": "e16866e2e65db08d",
   "outputs": [
    {
     "data": {
      "text/plain": [
       "<matplotlib.collections.PathCollection at 0x263f3b6e5c0>"
      ]
     },
     "execution_count": 62,
     "metadata": {},
     "output_type": "execute_result"
    },
    {
     "data": {
      "text/plain": [
       "<Figure size 1200x400 with 1 Axes>"
      ],
      "image/png": "[encoded data removed]"
     },
     "metadata": {},
     "output_type": "display_data"
    }
   ],
   "execution_count": 62
  },
  {
   "metadata": {
    "ExecuteTime": {
     "end_time": "2024-10-27T16:30:16.147486Z",
     "start_time": "2024-10-27T16:30:16.136391Z"
    }
   },
   "cell_type": "code",
   "source": [
    "#generate training data\n",
    "train_data = [np.array(sequence[i:i+window_size]).reshape(1,-1) for i in range(sequence.shape[0]-window_size)]\n",
    "train_data = np.concatenate(train_data*10, axis=0)\n",
    "train_data = train_data.reshape(train_data.shape[0], train_data.shape[1], 1)"
   ],
   "id": "7ef85bd7999e10f9",
   "outputs": [],
   "execution_count": 63
  },
  {
   "metadata": {
    "ExecuteTime": {
     "end_time": "2024-10-27T16:30:22.311292Z",
     "start_time": "2024-10-27T16:30:22.294330Z"
    }
   },
   "cell_type": "code",
   "source": [
    "#get training labels\n",
    "train_label = [sequence[i+window_size] for i in range(sequence.shape[0]-window_size)]\n",
    "train_label = np.concatenate([train_label]*10).reshape(-1,1)"
   ],
   "id": "aa1b2e49398f55f5",
   "outputs": [],
   "execution_count": 64
  },
  {
   "metadata": {
    "ExecuteTime": {
     "end_time": "2024-10-27T16:30:41.921295Z",
     "start_time": "2024-10-27T16:30:39.288331Z"
    }
   },
   "cell_type": "code",
   "source": [
    "#init model\n",
    "model = Sequential()  \n",
    "\n",
    "#RNN\n",
    "model.add(SimpleRNN(2, activation='tanh'))\n",
    "\n",
    "#Dense layer\n",
    "model.add(Dense(1))\n",
    "\n",
    "#compile model\n",
    "opt = Adam(learning_rate=0.1)\n",
    "model.compile(loss='mean_squared_error', optimizer=opt, metrics=['mse'])\n",
    "\n",
    "#train model\n",
    "model.fit(train_data, train_label, epochs=25, verbose=1)"
   ],
   "id": "11a0f6646a845913",
   "outputs": [
    {
     "name": "stdout",
     "output_type": "stream",
     "text": [
      "Epoch 1/25\n",
      "59/59 [==============================] - 1s 1ms/step - loss: 0.1268 - mse: 0.1268\n",
      "Epoch 2/25\n",
      "59/59 [==============================] - 0s 1ms/step - loss: 0.0118 - mse: 0.0118\n",
      "Epoch 3/25\n",
      "59/59 [==============================] - 0s 1ms/step - loss: 0.0100 - mse: 0.0100\n",
      "Epoch 4/25\n",
      "59/59 [==============================] - 0s 1ms/step - loss: 0.0094 - mse: 0.0094\n",
      "Epoch 5/25\n",
      "59/59 [==============================] - 0s 1ms/step - loss: 0.0089 - mse: 0.0089\n",
      "Epoch 6/25\n",
      "59/59 [==============================] - 0s 1ms/step - loss: 0.0088 - mse: 0.0088\n",
      "Epoch 7/25\n",
      "59/59 [==============================] - 0s 975us/step - loss: 0.0090 - mse: 0.0090\n",
      "Epoch 8/25\n",
      "59/59 [==============================] - 0s 998us/step - loss: 0.0079 - mse: 0.0079\n",
      "Epoch 9/25\n",
      "59/59 [==============================] - 0s 1ms/step - loss: 0.0083 - mse: 0.0083\n",
      "Epoch 10/25\n",
      "59/59 [==============================] - 0s 992us/step - loss: 0.0082 - mse: 0.0082\n",
      "Epoch 11/25\n",
      "59/59 [==============================] - 0s 966us/step - loss: 0.0081 - mse: 0.0081\n",
      "Epoch 12/25\n",
      "59/59 [==============================] - 0s 968us/step - loss: 0.0093 - mse: 0.0093\n",
      "Epoch 13/25\n",
      "59/59 [==============================] - 0s 958us/step - loss: 0.0077 - mse: 0.0077\n",
      "Epoch 14/25\n",
      "59/59 [==============================] - 0s 974us/step - loss: 0.0076 - mse: 0.0076\n",
      "Epoch 15/25\n",
      "59/59 [==============================] - 0s 948us/step - loss: 0.0088 - mse: 0.0088\n",
      "Epoch 16/25\n",
      "59/59 [==============================] - 0s 969us/step - loss: 0.0078 - mse: 0.0078\n",
      "Epoch 17/25\n",
      "59/59 [==============================] - 0s 983us/step - loss: 0.0085 - mse: 0.0085\n",
      "Epoch 18/25\n",
      "59/59 [==============================] - 0s 1ms/step - loss: 0.0081 - mse: 0.0081\n",
      "Epoch 19/25\n",
      "59/59 [==============================] - 0s 1ms/step - loss: 0.0079 - mse: 0.0079\n",
      "Epoch 20/25\n",
      "59/59 [==============================] - 0s 1ms/step - loss: 0.0083 - mse: 0.0083\n",
      "Epoch 21/25\n",
      "59/59 [==============================] - 0s 974us/step - loss: 0.0082 - mse: 0.0082\n",
      "Epoch 22/25\n",
      "59/59 [==============================] - 0s 983us/step - loss: 0.0079 - mse: 0.0079\n",
      "Epoch 23/25\n",
      "59/59 [==============================] - 0s 1ms/step - loss: 0.0083 - mse: 0.0083\n",
      "Epoch 24/25\n",
      "59/59 [==============================] - 0s 950us/step - loss: 0.0092 - mse: 0.0092\n",
      "Epoch 25/25\n",
      "59/59 [==============================] - 0s 954us/step - loss: 0.0082 - mse: 0.0082\n"
     ]
    },
    {
     "data": {
      "text/plain": [
       "<keras.callbacks.History at 0x263f3c18670>"
      ]
     },
     "execution_count": 65,
     "metadata": {},
     "output_type": "execute_result"
    }
   ],
   "execution_count": 65
  },
  {
   "metadata": {
    "ExecuteTime": {
     "end_time": "2024-10-27T16:29:01.116461Z",
     "start_time": "2024-10-27T16:28:55.072642Z"
    }
   },
   "cell_type": "code",
   "source": "model.fit(train_data, train_label, epochs=100, verbose=1)",
   "id": "e0df96f08b812cdb",
   "outputs": [
    {
     "name": "stdout",
     "output_type": "stream",
     "text": [
      "Epoch 1/100\n",
      "59/59 [==============================] - 1s 1ms/step - loss: 0.0348\n",
      "Epoch 2/100\n",
      "59/59 [==============================] - 0s 753us/step - loss: 0.0011\n",
      "Epoch 3/100\n",
      "59/59 [==============================] - 0s 788us/step - loss: 7.4419e-04\n",
      "Epoch 4/100\n",
      "59/59 [==============================] - 0s 792us/step - loss: 6.9628e-04\n",
      "Epoch 5/100\n",
      "59/59 [==============================] - 0s 811us/step - loss: 5.0017e-04\n",
      "Epoch 6/100\n",
      "59/59 [==============================] - 0s 811us/step - loss: 3.9760e-04\n",
      "Epoch 7/100\n",
      "59/59 [==============================] - 0s 804us/step - loss: 5.0165e-04\n",
      "Epoch 8/100\n",
      "59/59 [==============================] - 0s 829us/step - loss: 3.9320e-04\n",
      "Epoch 9/100\n",
      "59/59 [==============================] - 0s 826us/step - loss: 2.7711e-04\n",
      "Epoch 10/100\n",
      "59/59 [==============================] - 0s 891us/step - loss: 2.9781e-04\n",
      "Epoch 11/100\n",
      "59/59 [==============================] - 0s 834us/step - loss: 4.5021e-04\n",
      "Epoch 12/100\n",
      "59/59 [==============================] - 0s 813us/step - loss: 2.0789e-04\n",
      "Epoch 13/100\n",
      "59/59 [==============================] - 0s 840us/step - loss: 3.1917e-04\n",
      "Epoch 14/100\n",
      "59/59 [==============================] - 0s 846us/step - loss: 3.3340e-04\n",
      "Epoch 15/100\n",
      "59/59 [==============================] - 0s 831us/step - loss: 3.2379e-04\n",
      "Epoch 16/100\n",
      "59/59 [==============================] - 0s 801us/step - loss: 3.2855e-04\n",
      "Epoch 17/100\n",
      "59/59 [==============================] - 0s 794us/step - loss: 5.3554e-04\n",
      "Epoch 18/100\n",
      "59/59 [==============================] - 0s 888us/step - loss: 2.7165e-04\n",
      "Epoch 19/100\n",
      "59/59 [==============================] - 0s 781us/step - loss: 2.8284e-04\n",
      "Epoch 20/100\n",
      "59/59 [==============================] - 0s 805us/step - loss: 2.3801e-04\n",
      "Epoch 21/100\n",
      "59/59 [==============================] - 0s 793us/step - loss: 1.8563e-04\n",
      "Epoch 22/100\n",
      "59/59 [==============================] - 0s 776us/step - loss: 2.1981e-04\n",
      "Epoch 23/100\n",
      "59/59 [==============================] - 0s 793us/step - loss: 1.7762e-04\n",
      "Epoch 24/100\n",
      "59/59 [==============================] - 0s 803us/step - loss: 2.3703e-04\n",
      "Epoch 25/100\n",
      "59/59 [==============================] - 0s 804us/step - loss: 6.9137e-04\n",
      "Epoch 26/100\n",
      "59/59 [==============================] - 0s 784us/step - loss: 3.4915e-04\n",
      "Epoch 27/100\n",
      "59/59 [==============================] - 0s 775us/step - loss: 1.4896e-04\n",
      "Epoch 28/100\n",
      "59/59 [==============================] - 0s 827us/step - loss: 1.6447e-04\n",
      "Epoch 29/100\n",
      "59/59 [==============================] - 0s 775us/step - loss: 9.2394e-05\n",
      "Epoch 30/100\n",
      "59/59 [==============================] - 0s 827us/step - loss: 6.4815e-05\n",
      "Epoch 31/100\n",
      "59/59 [==============================] - 0s 812us/step - loss: 6.7246e-05\n",
      "Epoch 32/100\n",
      "59/59 [==============================] - 0s 848us/step - loss: 5.8935e-05\n",
      "Epoch 33/100\n",
      "59/59 [==============================] - 0s 776us/step - loss: 1.0907e-04\n",
      "Epoch 34/100\n",
      "59/59 [==============================] - 0s 785us/step - loss: 5.1020e-05\n",
      "Epoch 35/100\n",
      "59/59 [==============================] - 0s 792us/step - loss: 1.3412e-05\n",
      "Epoch 36/100\n",
      "59/59 [==============================] - 0s 836us/step - loss: 1.8942e-05\n",
      "Epoch 37/100\n",
      "59/59 [==============================] - 0s 801us/step - loss: 3.9587e-04\n",
      "Epoch 38/100\n",
      "59/59 [==============================] - 0s 825us/step - loss: 3.7455e-04\n",
      "Epoch 39/100\n",
      "59/59 [==============================] - 0s 801us/step - loss: 7.8793e-06\n",
      "Epoch 40/100\n",
      "59/59 [==============================] - 0s 801us/step - loss: 8.0853e-06\n",
      "Epoch 41/100\n",
      "59/59 [==============================] - 0s 827us/step - loss: 8.4024e-05\n",
      "Epoch 42/100\n",
      "59/59 [==============================] - 0s 818us/step - loss: 5.7765e-05\n",
      "Epoch 43/100\n",
      "59/59 [==============================] - 0s 810us/step - loss: 2.4377e-05\n",
      "Epoch 44/100\n",
      "59/59 [==============================] - 0s 823us/step - loss: 2.0442e-05\n",
      "Epoch 45/100\n",
      "59/59 [==============================] - 0s 793us/step - loss: 1.2367e-04\n",
      "Epoch 46/100\n",
      "59/59 [==============================] - 0s 810us/step - loss: 2.5323e-04\n",
      "Epoch 47/100\n",
      "59/59 [==============================] - 0s 849us/step - loss: 7.1969e-05\n",
      "Epoch 48/100\n",
      "59/59 [==============================] - 0s 853us/step - loss: 2.0546e-04\n",
      "Epoch 49/100\n",
      "59/59 [==============================] - 0s 795us/step - loss: 3.3053e-05\n",
      "Epoch 50/100\n",
      "59/59 [==============================] - 0s 803us/step - loss: 2.5092e-05\n",
      "Epoch 51/100\n",
      "59/59 [==============================] - 0s 837us/step - loss: 2.5152e-05\n",
      "Epoch 52/100\n",
      "59/59 [==============================] - 0s 801us/step - loss: 1.8843e-04\n",
      "Epoch 53/100\n",
      "59/59 [==============================] - 0s 810us/step - loss: 2.0339e-04\n",
      "Epoch 54/100\n",
      "59/59 [==============================] - 0s 810us/step - loss: 3.4258e-05\n",
      "Epoch 55/100\n",
      "59/59 [==============================] - 0s 801us/step - loss: 1.5885e-05\n",
      "Epoch 56/100\n",
      "59/59 [==============================] - 0s 821us/step - loss: 2.4431e-05\n",
      "Epoch 57/100\n",
      "59/59 [==============================] - 0s 835us/step - loss: 2.7004e-04\n",
      "Epoch 58/100\n",
      "59/59 [==============================] - 0s 826us/step - loss: 0.0013\n",
      "Epoch 59/100\n",
      "59/59 [==============================] - 0s 844us/step - loss: 1.4272e-04\n",
      "Epoch 60/100\n",
      "59/59 [==============================] - 0s 822us/step - loss: 7.8199e-05\n",
      "Epoch 61/100\n",
      "59/59 [==============================] - 0s 848us/step - loss: 5.7202e-05\n",
      "Epoch 62/100\n",
      "59/59 [==============================] - 0s 822us/step - loss: 2.6669e-05\n",
      "Epoch 63/100\n",
      "59/59 [==============================] - 0s 814us/step - loss: 2.5482e-05\n",
      "Epoch 64/100\n",
      "59/59 [==============================] - 0s 801us/step - loss: 6.2382e-05\n",
      "Epoch 65/100\n",
      "59/59 [==============================] - 0s 811us/step - loss: 6.6278e-05\n",
      "Epoch 66/100\n",
      "59/59 [==============================] - 0s 822us/step - loss: 7.3069e-05\n",
      "Epoch 67/100\n",
      "59/59 [==============================] - 0s 802us/step - loss: 3.5579e-04\n",
      "Epoch 68/100\n",
      "59/59 [==============================] - 0s 819us/step - loss: 1.8926e-04\n",
      "Epoch 69/100\n",
      "59/59 [==============================] - 0s 912us/step - loss: 8.6335e-05\n",
      "Epoch 70/100\n",
      "59/59 [==============================] - 0s 839us/step - loss: 8.5486e-05\n",
      "Epoch 71/100\n",
      "59/59 [==============================] - 0s 853us/step - loss: 5.0533e-05\n",
      "Epoch 72/100\n",
      "59/59 [==============================] - 0s 805us/step - loss: 1.2591e-04\n",
      "Epoch 73/100\n",
      "59/59 [==============================] - 0s 807us/step - loss: 1.9516e-04\n",
      "Epoch 74/100\n",
      "59/59 [==============================] - 0s 831us/step - loss: 6.4128e-04\n",
      "Epoch 75/100\n",
      "59/59 [==============================] - 0s 813us/step - loss: 1.4632e-04\n",
      "Epoch 76/100\n",
      "59/59 [==============================] - 0s 838us/step - loss: 9.1273e-05\n",
      "Epoch 77/100\n",
      "59/59 [==============================] - 0s 818us/step - loss: 6.8489e-05\n",
      "Epoch 78/100\n",
      "59/59 [==============================] - 0s 795us/step - loss: 1.4351e-04\n",
      "Epoch 79/100\n",
      "59/59 [==============================] - 0s 892us/step - loss: 3.9810e-04\n",
      "Epoch 80/100\n",
      "59/59 [==============================] - 0s 902us/step - loss: 3.3052e-04\n",
      "Epoch 81/100\n",
      "59/59 [==============================] - 0s 811us/step - loss: 9.5288e-05\n",
      "Epoch 82/100\n",
      "59/59 [==============================] - 0s 811us/step - loss: 6.7532e-05\n",
      "Epoch 83/100\n",
      "59/59 [==============================] - 0s 803us/step - loss: 7.6258e-05\n",
      "Epoch 84/100\n",
      "59/59 [==============================] - 0s 812us/step - loss: 1.8013e-04\n",
      "Epoch 85/100\n",
      "59/59 [==============================] - 0s 827us/step - loss: 5.0863e-05\n",
      "Epoch 86/100\n",
      "59/59 [==============================] - 0s 801us/step - loss: 5.8911e-05\n",
      "Epoch 87/100\n",
      "59/59 [==============================] - 0s 896us/step - loss: 7.4908e-05\n",
      "Epoch 88/100\n",
      "59/59 [==============================] - 0s 864us/step - loss: 1.7488e-04\n",
      "Epoch 89/100\n",
      "59/59 [==============================] - 0s 922us/step - loss: 7.1940e-04\n",
      "Epoch 90/100\n",
      "59/59 [==============================] - 0s 1ms/step - loss: 6.3791e-05\n",
      "Epoch 91/100\n",
      "59/59 [==============================] - 0s 908us/step - loss: 1.0969e-04\n",
      "Epoch 92/100\n",
      "59/59 [==============================] - 0s 859us/step - loss: 4.6417e-04\n",
      "Epoch 93/100\n",
      "59/59 [==============================] - 0s 858us/step - loss: 5.8807e-05\n",
      "Epoch 94/100\n",
      "59/59 [==============================] - 0s 815us/step - loss: 6.7355e-05\n",
      "Epoch 95/100\n",
      "59/59 [==============================] - 0s 806us/step - loss: 9.8370e-05\n",
      "Epoch 96/100\n",
      "59/59 [==============================] - 0s 818us/step - loss: 1.0477e-04\n",
      "Epoch 97/100\n",
      "59/59 [==============================] - 0s 822us/step - loss: 1.5195e-04\n",
      "Epoch 98/100\n",
      "59/59 [==============================] - 0s 796us/step - loss: 0.0018\n",
      "Epoch 99/100\n",
      "59/59 [==============================] - 0s 836us/step - loss: 1.2744e-04\n",
      "Epoch 100/100\n",
      "59/59 [==============================] - 0s 816us/step - loss: 7.5753e-05\n"
     ]
    },
    {
     "data": {
      "text/plain": [
       "<keras.callbacks.History at 0x263f0121720>"
      ]
     },
     "execution_count": 59,
     "metadata": {},
     "output_type": "execute_result"
    }
   ],
   "execution_count": 59
  },
  {
   "metadata": {
    "ExecuteTime": {
     "end_time": "2024-10-27T16:30:54.734286Z",
     "start_time": "2024-10-27T16:30:53.958849Z"
    }
   },
   "cell_type": "code",
   "source": [
    "#make predictions using the linear model\n",
    "preds = []\n",
    "input_vec = train_data[-1:].copy()\n",
    "for _ in range(15):\n",
    "    pred = model.predict(input_vec).flatten()\n",
    "    preds.append(pred[0])\n",
    "    input_vec[0][-1] = pred[0]"
   ],
   "id": "ce2fc6a71c1f2ff5",
   "outputs": [
    {
     "name": "stdout",
     "output_type": "stream",
     "text": [
      "1/1 [==============================] - 0s 19ms/step\n",
      "1/1 [==============================] - 0s 18ms/step\n",
      "1/1 [==============================] - 0s 14ms/step\n",
      "1/1 [==============================] - 0s 16ms/step\n",
      "1/1 [==============================] - 0s 15ms/step\n",
      "1/1 [==============================] - 0s 16ms/step\n",
      "1/1 [==============================] - 0s 17ms/step\n",
      "1/1 [==============================] - 0s 19ms/step\n",
      "1/1 [==============================] - 0s 16ms/step\n",
      "1/1 [==============================] - 0s 16ms/step\n",
      "1/1 [==============================] - 0s 16ms/step\n",
      "1/1 [==============================] - 0s 16ms/step\n",
      "1/1 [==============================] - 0s 16ms/step\n",
      "1/1 [==============================] - 0s 17ms/step\n",
      "1/1 [==============================] - 0s 17ms/step\n"
     ]
    }
   ],
   "execution_count": 67
  },
  {
   "metadata": {
    "ExecuteTime": {
     "end_time": "2024-10-27T16:31:01.891527Z",
     "start_time": "2024-10-27T16:31:01.732296Z"
    }
   },
   "cell_type": "code",
   "source": [
    "plt.figure(figsize=(12,4))\n",
    "plt.plot(sequence)\n",
    "plt.scatter(range(len(sequence)), sequence)\n",
    "plt.scatter(range(len(sequence)+1, len(sequence)+15), preds[1:])"
   ],
   "id": "4a27d70bc7b01668",
   "outputs": [
    {
     "data": {
      "text/plain": [
       "<matplotlib.collections.PathCollection at 0x263f63cf7f0>"
      ]
     },
     "execution_count": 68,
     "metadata": {},
     "output_type": "execute_result"
    },
    {
     "data": {
      "text/plain": [
       "<Figure size 1200x400 with 1 Axes>"
      ],
      "image/png": "[encoded data removed]"
     },
     "metadata": {},
     "output_type": "display_data"
    }
   ],
   "execution_count": 68
  },
  {
   "metadata": {},
   "cell_type": "markdown",
   "source": [
    "# Inspired by:\n",
    "https://www.youtube.com/watch?v=FTCpdNuIiZM&t=4s"
   ],
   "id": "5a21077df4a487cf"
  }
 ],
 "metadata": {
  "kernelspec": {
   "display_name": "Python 3",
   "language": "python",
   "name": "python3"
  },
  "language_info": {
   "codemirror_mode": {
    "name": "ipython",
    "version": 2
   },
   "file_extension": ".py",
   "mimetype": "text/x-python",
   "name": "python",
   "nbconvert_exporter": "python",
   "pygments_lexer": "ipython2",
   "version": "2.7.6"
  }
 },
 "nbformat": 4,
 "nbformat_minor": 5
}
