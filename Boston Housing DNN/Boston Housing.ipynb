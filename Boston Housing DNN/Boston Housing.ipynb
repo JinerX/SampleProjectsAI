{
 "cells": [
  {
   "cell_type": "code",
   "id": "initial_id",
   "metadata": {
    "ExecuteTime": {
     "end_time": "2024-10-29T15:49:54.117194Z",
     "start_time": "2024-10-29T15:49:54.104512Z"
    }
   },
   "source": [
    "import pandas as pd\n",
    "import numpy as np\n",
    "import tensorflow as tf\n",
    "from tensorflow.keras import layers\n",
    "from sklearn.preprocessing import MinMaxScaler\n",
    "from tensorflow.keras.regularizers import l2"
   ],
   "outputs": [],
   "execution_count": 15
  },
  {
   "cell_type": "markdown",
   "id": "ce1d2422d5de1521",
   "metadata": {},
   "source": [
    "Attribute Information\n",
    "Input features in order:\n",
    "1) CRIM: per capita crime rate by town\n",
    "2) ZN: proportion of residential land zoned for lots over 25,000 sq.ft.\n",
    "3) INDUS: proportion of non-retail business acres per town\n",
    "4) CHAS: Charles River dummy variable (1 if tract bounds river; 0 otherwise)\n",
    "5) NOX: nitric oxides concentration (parts per 10 million) [parts/10M]\n",
    "6) RM: average number of rooms per dwelling\n",
    "7) AGE: proportion of owner-occupied units built prior to 1940\n",
    "8) DIS: weighted distances to five Boston employment centres\n",
    "9) RAD: index of accessibility to radial highways\n",
    "10) TAX: full-value property-tax rate per $10,000 [$/10k]\n",
    "11) PTRATIO: pupil-teacher ratio by town\n",
    "12) B: The result of the equation B=1000(Bk - 0.63)^2 where Bk is the proportion of blacks by town\n",
    "13) LSTAT: % lower status of the population\n",
    "\n",
    "Output variable:\n",
    "1) MEDV: Median value of owner-occupied homes in $1000's [k$]"
   ]
  },
  {
   "cell_type": "code",
   "id": "632c0b50d4d3e54d",
   "metadata": {
    "ExecuteTime": {
     "end_time": "2024-10-29T15:49:54.148584Z",
     "start_time": "2024-10-29T15:49:54.135515Z"
    }
   },
   "source": [
    "TRAIN_TEST_SPLIT = 0.8"
   ],
   "outputs": [],
   "execution_count": 16
  },
  {
   "cell_type": "markdown",
   "id": "65a0be1b06170811",
   "metadata": {},
   "source": [
    "Loading the data"
   ]
  },
  {
   "cell_type": "code",
   "id": "c1eb16da7d0121d4",
   "metadata": {
    "ExecuteTime": {
     "end_time": "2024-10-29T15:49:54.164465Z",
     "start_time": "2024-10-29T15:49:54.148584Z"
    }
   },
   "source": [
    "col_names = [\"CRIM\", \"ZN\", \"INDUS\", \"CHAS\", \"NOX\",\"RM\", \"AGE\", \"DIS\",\"RAD\", \"TAX\", \"PTRATIO\", \"B\", \"LSTAT\",\"MEDV\"]\n",
    "data = pd.read_csv('housing.csv', sep=\"\\s+\", names=col_names)"
   ],
   "outputs": [],
   "execution_count": 17
  },
  {
   "cell_type": "markdown",
   "id": "2cc50e7e2bd702ea",
   "metadata": {},
   "source": [
    "Checking for nulls"
   ]
  },
  {
   "cell_type": "code",
   "id": "33baa1af85b2fc91",
   "metadata": {
    "ExecuteTime": {
     "end_time": "2024-10-29T15:49:54.180339Z",
     "start_time": "2024-10-29T15:49:54.165514Z"
    }
   },
   "source": [
    "data.isnull().values.any()"
   ],
   "outputs": [
    {
     "data": {
      "text/plain": [
       "False"
      ]
     },
     "execution_count": 18,
     "metadata": {},
     "output_type": "execute_result"
    }
   ],
   "execution_count": 18
  },
  {
   "cell_type": "code",
   "id": "a63ac5ed0f20eee3",
   "metadata": {
    "ExecuteTime": {
     "end_time": "2024-10-29T15:49:54.196437Z",
     "start_time": "2024-10-29T15:49:54.180339Z"
    }
   },
   "source": [
    "data.head()"
   ],
   "outputs": [
    {
     "data": {
      "text/plain": [
       "      CRIM    ZN  INDUS  CHAS    NOX     RM   AGE     DIS  RAD    TAX  \\\n",
       "0  0.00632  18.0   2.31     0  0.538  6.575  65.2  4.0900    1  296.0   \n",
       "1  0.02731   0.0   7.07     0  0.469  6.421  78.9  4.9671    2  242.0   \n",
       "2  0.02729   0.0   7.07     0  0.469  7.185  61.1  4.9671    2  242.0   \n",
       "3  0.03237   0.0   2.18     0  0.458  6.998  45.8  6.0622    3  222.0   \n",
       "4  0.06905   0.0   2.18     0  0.458  7.147  54.2  6.0622    3  222.0   \n",
       "\n",
       "   PTRATIO       B  LSTAT  MEDV  \n",
       "0     15.3  396.90   4.98  24.0  \n",
       "1     17.8  396.90   9.14  21.6  \n",
       "2     17.8  392.83   4.03  34.7  \n",
       "3     18.7  394.63   2.94  33.4  \n",
       "4     18.7  396.90   5.33  36.2  "
      ],
      "text/html": [
       "<div>\n",
       "<style scoped>\n",
       "    .dataframe tbody tr th:only-of-type {\n",
       "        vertical-align: middle;\n",
       "    }\n",
       "\n",
       "    .dataframe tbody tr th {\n",
       "        vertical-align: top;\n",
       "    }\n",
       "\n",
       "    .dataframe thead th {\n",
       "        text-align: right;\n",
       "    }\n",
       "</style>\n",
       "<table border=\"1\" class=\"dataframe\">\n",
       "  <thead>\n",
       "    <tr style=\"text-align: right;\">\n",
       "      <th></th>\n",
       "      <th>CRIM</th>\n",
       "      <th>ZN</th>\n",
       "      <th>INDUS</th>\n",
       "      <th>CHAS</th>\n",
       "      <th>NOX</th>\n",
       "      <th>RM</th>\n",
       "      <th>AGE</th>\n",
       "      <th>DIS</th>\n",
       "      <th>RAD</th>\n",
       "      <th>TAX</th>\n",
       "      <th>PTRATIO</th>\n",
       "      <th>B</th>\n",
       "      <th>LSTAT</th>\n",
       "      <th>MEDV</th>\n",
       "    </tr>\n",
       "  </thead>\n",
       "  <tbody>\n",
       "    <tr>\n",
       "      <th>0</th>\n",
       "      <td>0.00632</td>\n",
       "      <td>18.0</td>\n",
       "      <td>2.31</td>\n",
       "      <td>0</td>\n",
       "      <td>0.538</td>\n",
       "      <td>6.575</td>\n",
       "      <td>65.2</td>\n",
       "      <td>4.0900</td>\n",
       "      <td>1</td>\n",
       "      <td>296.0</td>\n",
       "      <td>15.3</td>\n",
       "      <td>396.90</td>\n",
       "      <td>4.98</td>\n",
       "      <td>24.0</td>\n",
       "    </tr>\n",
       "    <tr>\n",
       "      <th>1</th>\n",
       "      <td>0.02731</td>\n",
       "      <td>0.0</td>\n",
       "      <td>7.07</td>\n",
       "      <td>0</td>\n",
       "      <td>0.469</td>\n",
       "      <td>6.421</td>\n",
       "      <td>78.9</td>\n",
       "      <td>4.9671</td>\n",
       "      <td>2</td>\n",
       "      <td>242.0</td>\n",
       "      <td>17.8</td>\n",
       "      <td>396.90</td>\n",
       "      <td>9.14</td>\n",
       "      <td>21.6</td>\n",
       "    </tr>\n",
       "    <tr>\n",
       "      <th>2</th>\n",
       "      <td>0.02729</td>\n",
       "      <td>0.0</td>\n",
       "      <td>7.07</td>\n",
       "      <td>0</td>\n",
       "      <td>0.469</td>\n",
       "      <td>7.185</td>\n",
       "      <td>61.1</td>\n",
       "      <td>4.9671</td>\n",
       "      <td>2</td>\n",
       "      <td>242.0</td>\n",
       "      <td>17.8</td>\n",
       "      <td>392.83</td>\n",
       "      <td>4.03</td>\n",
       "      <td>34.7</td>\n",
       "    </tr>\n",
       "    <tr>\n",
       "      <th>3</th>\n",
       "      <td>0.03237</td>\n",
       "      <td>0.0</td>\n",
       "      <td>2.18</td>\n",
       "      <td>0</td>\n",
       "      <td>0.458</td>\n",
       "      <td>6.998</td>\n",
       "      <td>45.8</td>\n",
       "      <td>6.0622</td>\n",
       "      <td>3</td>\n",
       "      <td>222.0</td>\n",
       "      <td>18.7</td>\n",
       "      <td>394.63</td>\n",
       "      <td>2.94</td>\n",
       "      <td>33.4</td>\n",
       "    </tr>\n",
       "    <tr>\n",
       "      <th>4</th>\n",
       "      <td>0.06905</td>\n",
       "      <td>0.0</td>\n",
       "      <td>2.18</td>\n",
       "      <td>0</td>\n",
       "      <td>0.458</td>\n",
       "      <td>7.147</td>\n",
       "      <td>54.2</td>\n",
       "      <td>6.0622</td>\n",
       "      <td>3</td>\n",
       "      <td>222.0</td>\n",
       "      <td>18.7</td>\n",
       "      <td>396.90</td>\n",
       "      <td>5.33</td>\n",
       "      <td>36.2</td>\n",
       "    </tr>\n",
       "  </tbody>\n",
       "</table>\n",
       "</div>"
      ]
     },
     "execution_count": 19,
     "metadata": {},
     "output_type": "execute_result"
    }
   ],
   "execution_count": 19
  },
  {
   "cell_type": "markdown",
   "id": "dea11f64b3a36938",
   "metadata": {},
   "source": [
    "Normalization and preprocessing"
   ]
  },
  {
   "cell_type": "code",
   "id": "bc092f7b89a3397b",
   "metadata": {
    "ExecuteTime": {
     "end_time": "2024-10-29T15:49:54.212447Z",
     "start_time": "2024-10-29T15:49:54.196437Z"
    }
   },
   "source": [
    "input_data = data[data.columns[:13]]\n",
    "output_data = data[data.columns[13]]\n",
    "\n",
    "scaler = MinMaxScaler()\n",
    "\n",
    "input_data = pd.DataFrame(scaler.fit_transform(input_data), columns=data.columns[:13])\n"
   ],
   "outputs": [],
   "execution_count": 20
  },
  {
   "cell_type": "code",
   "id": "467cf2006d132216",
   "metadata": {
    "ExecuteTime": {
     "end_time": "2024-10-29T15:49:54.228226Z",
     "start_time": "2024-10-29T15:49:54.214463Z"
    }
   },
   "source": [
    "data = pd.concat([input_data,output_data], axis=1)\n",
    "data = data.to_numpy()\n",
    "np.random.shuffle(data)\n",
    "input_data = data[:,:13]\n",
    "output_data = data[:,13]"
   ],
   "outputs": [],
   "execution_count": 21
  },
  {
   "cell_type": "code",
   "id": "174287fbba4d0701",
   "metadata": {
    "ExecuteTime": {
     "end_time": "2024-10-29T15:49:54.243866Z",
     "start_time": "2024-10-29T15:49:54.228226Z"
    }
   },
   "source": [
    "X_train = input_data[:int(TRAIN_TEST_SPLIT*input_data.shape[0])]\n",
    "y_train = output_data[:int(TRAIN_TEST_SPLIT*input_data.shape[0])]\n",
    "X_test = input_data[int(TRAIN_TEST_SPLIT*input_data.shape[0]):]\n",
    "y_test = output_data[int(TRAIN_TEST_SPLIT*input_data.shape[0]):]"
   ],
   "outputs": [],
   "execution_count": 22
  },
  {
   "cell_type": "markdown",
   "id": "ad61162aa33e3860",
   "metadata": {},
   "source": [
    "Creating a Dense Model, fitting and evaluation"
   ]
  },
  {
   "cell_type": "code",
   "id": "9433c781b5823885",
   "metadata": {
    "ExecuteTime": {
     "end_time": "2024-10-29T15:49:54.259664Z",
     "start_time": "2024-10-29T15:49:54.244406Z"
    }
   },
   "source": [
    "model = tf.keras.models.Sequential(\n",
    "    [\n",
    "        layers.Dense(13, activation='relu'),\n",
    "        layers.Dense(512, activation='relu',kernel_regularizer=l2(0.01)),\n",
    "        layers.Dense(256,activation='relu', kernel_regularizer=l2(0.01)),\n",
    "        layers.Dense(32,activation='relu', kernel_regularizer=l2(0.01)),\n",
    "        layers.Dense(1, activation='linear')\n",
    "    ]\n",
    ")"
   ],
   "outputs": [],
   "execution_count": 23
  },
  {
   "cell_type": "code",
   "id": "5ea99bfa761b9187",
   "metadata": {
    "ExecuteTime": {
     "end_time": "2024-10-29T15:49:54.275259Z",
     "start_time": "2024-10-29T15:49:54.259664Z"
    }
   },
   "source": [
    "model.compile(\n",
    "    loss=tf.keras.losses.MSE,\n",
    "    optimizer=tf.keras.optimizers.Adam(learning_rate=0.001),\n",
    ")"
   ],
   "outputs": [],
   "execution_count": 24
  },
  {
   "cell_type": "code",
   "id": "4c071d8043aaae90",
   "metadata": {
    "ExecuteTime": {
     "end_time": "2024-10-29T15:49:58.067416Z",
     "start_time": "2024-10-29T15:49:54.275259Z"
    }
   },
   "source": "model.fit(X_train, y_train, epochs=100, batch_size=16, verbose=2)",
   "outputs": [
    {
     "name": "stdout",
     "output_type": "stream",
     "text": [
      "Epoch 1/100\n",
      "26/26 - 1s - loss: 492.2241 - 593ms/epoch - 23ms/step\n",
      "Epoch 2/100\n",
      "26/26 - 0s - loss: 164.1767 - 32ms/epoch - 1ms/step\n",
      "Epoch 3/100\n",
      "26/26 - 0s - loss: 102.9739 - 31ms/epoch - 1ms/step\n",
      "Epoch 4/100\n",
      "26/26 - 0s - loss: 76.4155 - 39ms/epoch - 1ms/step\n",
      "Epoch 5/100\n",
      "26/26 - 0s - loss: 65.0315 - 31ms/epoch - 1ms/step\n",
      "Epoch 6/100\n",
      "26/26 - 0s - loss: 56.8803 - 39ms/epoch - 2ms/step\n",
      "Epoch 7/100\n",
      "26/26 - 0s - loss: 47.0570 - 32ms/epoch - 1ms/step\n",
      "Epoch 8/100\n",
      "26/26 - 0s - loss: 45.3853 - 32ms/epoch - 1ms/step\n",
      "Epoch 9/100\n",
      "26/26 - 0s - loss: 38.2611 - 31ms/epoch - 1ms/step\n",
      "Epoch 10/100\n",
      "26/26 - 0s - loss: 35.2815 - 29ms/epoch - 1ms/step\n",
      "Epoch 11/100\n",
      "26/26 - 0s - loss: 31.7600 - 32ms/epoch - 1ms/step\n",
      "Epoch 12/100\n",
      "26/26 - 0s - loss: 30.8552 - 28ms/epoch - 1ms/step\n",
      "Epoch 13/100\n",
      "26/26 - 0s - loss: 30.8339 - 27ms/epoch - 1ms/step\n",
      "Epoch 14/100\n",
      "26/26 - 0s - loss: 29.0239 - 29ms/epoch - 1ms/step\n",
      "Epoch 15/100\n",
      "26/26 - 0s - loss: 27.3328 - 30ms/epoch - 1ms/step\n",
      "Epoch 16/100\n",
      "26/26 - 0s - loss: 27.6212 - 33ms/epoch - 1ms/step\n",
      "Epoch 17/100\n",
      "26/26 - 0s - loss: 25.8846 - 29ms/epoch - 1ms/step\n",
      "Epoch 18/100\n",
      "26/26 - 0s - loss: 25.3016 - 29ms/epoch - 1ms/step\n",
      "Epoch 19/100\n",
      "26/26 - 0s - loss: 23.9495 - 28ms/epoch - 1ms/step\n",
      "Epoch 20/100\n",
      "26/26 - 0s - loss: 23.2561 - 30ms/epoch - 1ms/step\n",
      "Epoch 21/100\n",
      "26/26 - 0s - loss: 23.1645 - 31ms/epoch - 1ms/step\n",
      "Epoch 22/100\n",
      "26/26 - 0s - loss: 21.6716 - 33ms/epoch - 1ms/step\n",
      "Epoch 23/100\n",
      "26/26 - 0s - loss: 23.5607 - 30ms/epoch - 1ms/step\n",
      "Epoch 24/100\n",
      "26/26 - 0s - loss: 23.0232 - 27ms/epoch - 1ms/step\n",
      "Epoch 25/100\n",
      "26/26 - 0s - loss: 21.2623 - 21ms/epoch - 827us/step\n",
      "Epoch 26/100\n",
      "26/26 - 0s - loss: 21.2223 - 30ms/epoch - 1ms/step\n",
      "Epoch 27/100\n",
      "26/26 - 0s - loss: 22.3149 - 29ms/epoch - 1ms/step\n",
      "Epoch 28/100\n",
      "26/26 - 0s - loss: 20.7212 - 29ms/epoch - 1ms/step\n",
      "Epoch 29/100\n",
      "26/26 - 0s - loss: 20.9121 - 30ms/epoch - 1ms/step\n",
      "Epoch 30/100\n",
      "26/26 - 0s - loss: 20.2328 - 31ms/epoch - 1ms/step\n",
      "Epoch 31/100\n",
      "26/26 - 0s - loss: 20.2387 - 34ms/epoch - 1ms/step\n",
      "Epoch 32/100\n",
      "26/26 - 0s - loss: 19.2591 - 28ms/epoch - 1ms/step\n",
      "Epoch 33/100\n",
      "26/26 - 0s - loss: 18.7847 - 31ms/epoch - 1ms/step\n",
      "Epoch 34/100\n",
      "26/26 - 0s - loss: 19.4267 - 30ms/epoch - 1ms/step\n",
      "Epoch 35/100\n",
      "26/26 - 0s - loss: 19.0531 - 27ms/epoch - 1ms/step\n",
      "Epoch 36/100\n",
      "26/26 - 0s - loss: 18.1810 - 30ms/epoch - 1ms/step\n",
      "Epoch 37/100\n",
      "26/26 - 0s - loss: 18.5646 - 33ms/epoch - 1ms/step\n",
      "Epoch 38/100\n",
      "26/26 - 0s - loss: 18.6518 - 30ms/epoch - 1ms/step\n",
      "Epoch 39/100\n",
      "26/26 - 0s - loss: 21.1021 - 27ms/epoch - 1ms/step\n",
      "Epoch 40/100\n",
      "26/26 - 0s - loss: 20.1061 - 39ms/epoch - 1ms/step\n",
      "Epoch 41/100\n",
      "26/26 - 0s - loss: 18.6612 - 31ms/epoch - 1ms/step\n",
      "Epoch 42/100\n",
      "26/26 - 0s - loss: 18.2988 - 33ms/epoch - 1ms/step\n",
      "Epoch 43/100\n",
      "26/26 - 0s - loss: 18.1051 - 30ms/epoch - 1ms/step\n",
      "Epoch 44/100\n",
      "26/26 - 0s - loss: 19.3510 - 27ms/epoch - 1ms/step\n",
      "Epoch 45/100\n",
      "26/26 - 0s - loss: 22.9709 - 30ms/epoch - 1ms/step\n",
      "Epoch 46/100\n",
      "26/26 - 0s - loss: 17.5243 - 31ms/epoch - 1ms/step\n",
      "Epoch 47/100\n",
      "26/26 - 0s - loss: 17.2013 - 29ms/epoch - 1ms/step\n",
      "Epoch 48/100\n",
      "26/26 - 0s - loss: 17.2827 - 30ms/epoch - 1ms/step\n",
      "Epoch 49/100\n",
      "26/26 - 0s - loss: 17.1748 - 35ms/epoch - 1ms/step\n",
      "Epoch 50/100\n",
      "26/26 - 0s - loss: 16.8499 - 30ms/epoch - 1ms/step\n",
      "Epoch 51/100\n",
      "26/26 - 0s - loss: 16.8790 - 31ms/epoch - 1ms/step\n",
      "Epoch 52/100\n",
      "26/26 - 0s - loss: 16.9094 - 31ms/epoch - 1ms/step\n",
      "Epoch 53/100\n",
      "26/26 - 0s - loss: 17.8510 - 32ms/epoch - 1ms/step\n",
      "Epoch 54/100\n",
      "26/26 - 0s - loss: 17.2157 - 32ms/epoch - 1ms/step\n",
      "Epoch 55/100\n",
      "26/26 - 0s - loss: 16.3599 - 30ms/epoch - 1ms/step\n",
      "Epoch 56/100\n",
      "26/26 - 0s - loss: 16.4195 - 30ms/epoch - 1ms/step\n",
      "Epoch 57/100\n",
      "26/26 - 0s - loss: 15.8764 - 31ms/epoch - 1ms/step\n",
      "Epoch 58/100\n",
      "26/26 - 0s - loss: 15.9927 - 31ms/epoch - 1ms/step\n",
      "Epoch 59/100\n",
      "26/26 - 0s - loss: 16.2181 - 28ms/epoch - 1ms/step\n",
      "Epoch 60/100\n",
      "26/26 - 0s - loss: 16.8086 - 26ms/epoch - 1ms/step\n",
      "Epoch 61/100\n",
      "26/26 - 0s - loss: 15.8587 - 30ms/epoch - 1ms/step\n",
      "Epoch 62/100\n",
      "26/26 - 0s - loss: 15.6252 - 34ms/epoch - 1ms/step\n",
      "Epoch 63/100\n",
      "26/26 - 0s - loss: 15.5256 - 30ms/epoch - 1ms/step\n",
      "Epoch 64/100\n",
      "26/26 - 0s - loss: 15.6345 - 27ms/epoch - 1ms/step\n",
      "Epoch 65/100\n",
      "26/26 - 0s - loss: 14.9696 - 29ms/epoch - 1ms/step\n",
      "Epoch 66/100\n",
      "26/26 - 0s - loss: 15.3990 - 32ms/epoch - 1ms/step\n",
      "Epoch 67/100\n",
      "26/26 - 0s - loss: 14.9823 - 33ms/epoch - 1ms/step\n",
      "Epoch 68/100\n",
      "26/26 - 0s - loss: 16.3085 - 30ms/epoch - 1ms/step\n",
      "Epoch 69/100\n",
      "26/26 - 0s - loss: 15.0253 - 36ms/epoch - 1ms/step\n",
      "Epoch 70/100\n",
      "26/26 - 0s - loss: 14.6324 - 34ms/epoch - 1ms/step\n",
      "Epoch 71/100\n",
      "26/26 - 0s - loss: 14.6979 - 27ms/epoch - 1ms/step\n",
      "Epoch 72/100\n",
      "26/26 - 0s - loss: 15.3210 - 33ms/epoch - 1ms/step\n",
      "Epoch 73/100\n",
      "26/26 - 0s - loss: 15.4648 - 27ms/epoch - 1ms/step\n",
      "Epoch 74/100\n",
      "26/26 - 0s - loss: 15.5595 - 38ms/epoch - 1ms/step\n",
      "Epoch 75/100\n",
      "26/26 - 0s - loss: 14.4760 - 30ms/epoch - 1ms/step\n",
      "Epoch 76/100\n",
      "26/26 - 0s - loss: 13.4420 - 31ms/epoch - 1ms/step\n",
      "Epoch 77/100\n",
      "26/26 - 0s - loss: 13.3934 - 30ms/epoch - 1ms/step\n",
      "Epoch 78/100\n",
      "26/26 - 0s - loss: 16.0534 - 30ms/epoch - 1ms/step\n",
      "Epoch 79/100\n",
      "26/26 - 0s - loss: 15.5055 - 32ms/epoch - 1ms/step\n",
      "Epoch 80/100\n",
      "26/26 - 0s - loss: 13.0609 - 28ms/epoch - 1ms/step\n",
      "Epoch 81/100\n",
      "26/26 - 0s - loss: 12.9147 - 29ms/epoch - 1ms/step\n",
      "Epoch 82/100\n",
      "26/26 - 0s - loss: 13.4956 - 27ms/epoch - 1ms/step\n",
      "Epoch 83/100\n",
      "26/26 - 0s - loss: 13.2212 - 30ms/epoch - 1ms/step\n",
      "Epoch 84/100\n",
      "26/26 - 0s - loss: 12.9152 - 30ms/epoch - 1ms/step\n",
      "Epoch 85/100\n",
      "26/26 - 0s - loss: 12.1399 - 31ms/epoch - 1ms/step\n",
      "Epoch 86/100\n",
      "26/26 - 0s - loss: 12.4552 - 30ms/epoch - 1ms/step\n",
      "Epoch 87/100\n",
      "26/26 - 0s - loss: 11.8877 - 30ms/epoch - 1ms/step\n",
      "Epoch 88/100\n",
      "26/26 - 0s - loss: 11.6313 - 32ms/epoch - 1ms/step\n",
      "Epoch 89/100\n",
      "26/26 - 0s - loss: 12.5791 - 32ms/epoch - 1ms/step\n",
      "Epoch 90/100\n",
      "26/26 - 0s - loss: 11.6332 - 32ms/epoch - 1ms/step\n",
      "Epoch 91/100\n",
      "26/26 - 0s - loss: 13.9025 - 26ms/epoch - 1ms/step\n",
      "Epoch 92/100\n",
      "26/26 - 0s - loss: 11.2429 - 26ms/epoch - 1ms/step\n",
      "Epoch 93/100\n",
      "26/26 - 0s - loss: 10.8923 - 34ms/epoch - 1ms/step\n",
      "Epoch 94/100\n",
      "26/26 - 0s - loss: 12.1261 - 30ms/epoch - 1ms/step\n",
      "Epoch 95/100\n",
      "26/26 - 0s - loss: 11.9703 - 27ms/epoch - 1ms/step\n",
      "Epoch 96/100\n",
      "26/26 - 0s - loss: 10.7124 - 23ms/epoch - 886us/step\n",
      "Epoch 97/100\n",
      "26/26 - 0s - loss: 10.7242 - 24ms/epoch - 925us/step\n",
      "Epoch 98/100\n",
      "26/26 - 0s - loss: 10.7185 - 30ms/epoch - 1ms/step\n",
      "Epoch 99/100\n",
      "26/26 - 0s - loss: 11.0060 - 34ms/epoch - 1ms/step\n",
      "Epoch 100/100\n",
      "26/26 - 0s - loss: 14.3905 - 30ms/epoch - 1ms/step\n"
     ]
    },
    {
     "data": {
      "text/plain": [
       "<keras.callbacks.History at 0x1870f6900a0>"
      ]
     },
     "execution_count": 25,
     "metadata": {},
     "output_type": "execute_result"
    }
   ],
   "execution_count": 25
  },
  {
   "cell_type": "code",
   "id": "96e1a81242b009a8",
   "metadata": {
    "ExecuteTime": {
     "end_time": "2024-10-29T15:49:58.227622Z",
     "start_time": "2024-10-29T15:49:58.067416Z"
    }
   },
   "source": [
    "model.evaluate(X_test, y_test, verbose=2)"
   ],
   "outputs": [
    {
     "name": "stdout",
     "output_type": "stream",
     "text": [
      "4/4 - 0s - loss: 12.0377 - 113ms/epoch - 28ms/step\n"
     ]
    },
    {
     "data": {
      "text/plain": [
       "12.037691116333008"
      ]
     },
     "execution_count": 26,
     "metadata": {},
     "output_type": "execute_result"
    }
   ],
   "execution_count": 26
  },
  {
   "cell_type": "markdown",
   "id": "a01adb7d65293be5",
   "metadata": {},
   "source": [
    "Not too well, but we also didn't have much data"
   ]
  },
  {
   "cell_type": "code",
   "id": "34d32128fdf85b5c",
   "metadata": {
    "ExecuteTime": {
     "end_time": "2024-10-29T15:49:58.243661Z",
     "start_time": "2024-10-29T15:49:58.227622Z"
    }
   },
   "source": [
    "model.summary()"
   ],
   "outputs": [
    {
     "name": "stdout",
     "output_type": "stream",
     "text": [
      "Model: \"sequential_1\"\n",
      "_________________________________________________________________\n",
      " Layer (type)                Output Shape              Param #   \n",
      "=================================================================\n",
      " dense_5 (Dense)             (None, 13)                182       \n",
      "                                                                 \n",
      " dense_6 (Dense)             (None, 512)               7168      \n",
      "                                                                 \n",
      " dense_7 (Dense)             (None, 256)               131328    \n",
      "                                                                 \n",
      " dense_8 (Dense)             (None, 32)                8224      \n",
      "                                                                 \n",
      " dense_9 (Dense)             (None, 1)                 33        \n",
      "                                                                 \n",
      "=================================================================\n",
      "Total params: 146,935\n",
      "Trainable params: 146,935\n",
      "Non-trainable params: 0\n",
      "_________________________________________________________________\n"
     ]
    }
   ],
   "execution_count": 27
  },
  {
   "cell_type": "markdown",
   "id": "221dc3b9a9a1136e",
   "metadata": {},
   "source": [
    "Data from: https://www.kaggle.com/datasets/vikrishnan/boston-house-prices"
   ]
  }
 ],
 "metadata": {
  "kernelspec": {
   "display_name": "Python 3 (ipykernel)",
   "language": "python",
   "name": "python3"
  },
  "language_info": {
   "codemirror_mode": {
    "name": "ipython",
    "version": 3
   },
   "file_extension": ".py",
   "mimetype": "text/x-python",
   "name": "python",
   "nbconvert_exporter": "python",
   "pygments_lexer": "ipython3",
   "version": "3.10.13"
  }
 },
 "nbformat": 4,
 "nbformat_minor": 5
}
