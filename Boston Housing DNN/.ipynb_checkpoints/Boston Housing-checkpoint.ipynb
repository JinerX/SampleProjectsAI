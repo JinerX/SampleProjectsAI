{
 "cells": [
  {
   "cell_type": "code",
   "execution_count": 1,
   "id": "initial_id",
   "metadata": {
    "ExecuteTime": {
     "end_time": "2024-10-23T16:48:51.337416Z",
     "start_time": "2024-10-23T16:48:51.317749Z"
    }
   },
   "outputs": [],
   "source": [
    "import pandas as pd\n",
    "import numpy as np\n",
    "import tensorflow as tf\n",
    "from tensorflow.keras import layers\n",
    "from sklearn.preprocessing import MinMaxScaler"
   ]
  },
  {
   "cell_type": "markdown",
   "id": "ce1d2422d5de1521",
   "metadata": {},
   "source": [
    "Attribute Information\n",
    "Input features in order:\n",
    "1) CRIM: per capita crime rate by town\n",
    "2) ZN: proportion of residential land zoned for lots over 25,000 sq.ft.\n",
    "3) INDUS: proportion of non-retail business acres per town\n",
    "4) CHAS: Charles River dummy variable (1 if tract bounds river; 0 otherwise)\n",
    "5) NOX: nitric oxides concentration (parts per 10 million) [parts/10M]\n",
    "6) RM: average number of rooms per dwelling\n",
    "7) AGE: proportion of owner-occupied units built prior to 1940\n",
    "8) DIS: weighted distances to five Boston employment centres\n",
    "9) RAD: index of accessibility to radial highways\n",
    "10) TAX: full-value property-tax rate per $10,000 [$/10k]\n",
    "11) PTRATIO: pupil-teacher ratio by town\n",
    "12) B: The result of the equation B=1000(Bk - 0.63)^2 where Bk is the proportion of blacks by town\n",
    "13) LSTAT: % lower status of the population\n",
    "\n",
    "Output variable:\n",
    "1) MEDV: Median value of owner-occupied homes in $1000's [k$]"
   ]
  },
  {
   "cell_type": "code",
   "execution_count": 2,
   "id": "632c0b50d4d3e54d",
   "metadata": {
    "ExecuteTime": {
     "end_time": "2024-10-23T16:48:51.368949Z",
     "start_time": "2024-10-23T16:48:51.357859Z"
    }
   },
   "outputs": [],
   "source": [
    "TRAIN_TEST_SPLIT = 0.8"
   ]
  },
  {
   "cell_type": "markdown",
   "id": "65a0be1b06170811",
   "metadata": {},
   "source": [
    "Loading the data"
   ]
  },
  {
   "cell_type": "code",
   "execution_count": 3,
   "id": "c1eb16da7d0121d4",
   "metadata": {
    "ExecuteTime": {
     "end_time": "2024-10-23T16:48:51.384717Z",
     "start_time": "2024-10-23T16:48:51.368949Z"
    }
   },
   "outputs": [],
   "source": [
    "col_names = [\"CRIM\", \"ZN\", \"INDUS\", \"CHAS\", \"NOX\",\"RM\", \"AGE\", \"DIS\",\"RAD\", \"TAX\", \"PTRATIO\", \"B\", \"LSTAT\",\"MEDV\"]\n",
    "data = pd.read_csv('housing.csv', sep=\"\\s+\", names=col_names)"
   ]
  },
  {
   "cell_type": "markdown",
   "id": "2cc50e7e2bd702ea",
   "metadata": {},
   "source": [
    "Checking for nulls"
   ]
  },
  {
   "cell_type": "code",
   "execution_count": 4,
   "id": "33baa1af85b2fc91",
   "metadata": {
    "ExecuteTime": {
     "end_time": "2024-10-23T16:48:51.400842Z",
     "start_time": "2024-10-23T16:48:51.385722Z"
    }
   },
   "outputs": [
    {
     "data": {
      "text/plain": [
       "False"
      ]
     },
     "execution_count": 4,
     "metadata": {},
     "output_type": "execute_result"
    }
   ],
   "source": [
    "data.isnull().values.any()"
   ]
  },
  {
   "cell_type": "code",
   "execution_count": 5,
   "id": "a63ac5ed0f20eee3",
   "metadata": {
    "ExecuteTime": {
     "end_time": "2024-10-23T16:48:51.432048Z",
     "start_time": "2024-10-23T16:48:51.400842Z"
    }
   },
   "outputs": [
    {
     "data": {
      "text/html": [
       "<div>\n",
       "<style scoped>\n",
       "    .dataframe tbody tr th:only-of-type {\n",
       "        vertical-align: middle;\n",
       "    }\n",
       "\n",
       "    .dataframe tbody tr th {\n",
       "        vertical-align: top;\n",
       "    }\n",
       "\n",
       "    .dataframe thead th {\n",
       "        text-align: right;\n",
       "    }\n",
       "</style>\n",
       "<table border=\"1\" class=\"dataframe\">\n",
       "  <thead>\n",
       "    <tr style=\"text-align: right;\">\n",
       "      <th></th>\n",
       "      <th>CRIM</th>\n",
       "      <th>ZN</th>\n",
       "      <th>INDUS</th>\n",
       "      <th>CHAS</th>\n",
       "      <th>NOX</th>\n",
       "      <th>RM</th>\n",
       "      <th>AGE</th>\n",
       "      <th>DIS</th>\n",
       "      <th>RAD</th>\n",
       "      <th>TAX</th>\n",
       "      <th>PTRATIO</th>\n",
       "      <th>B</th>\n",
       "      <th>LSTAT</th>\n",
       "      <th>MEDV</th>\n",
       "    </tr>\n",
       "  </thead>\n",
       "  <tbody>\n",
       "    <tr>\n",
       "      <th>0</th>\n",
       "      <td>0.00632</td>\n",
       "      <td>18.0</td>\n",
       "      <td>2.31</td>\n",
       "      <td>0</td>\n",
       "      <td>0.538</td>\n",
       "      <td>6.575</td>\n",
       "      <td>65.2</td>\n",
       "      <td>4.0900</td>\n",
       "      <td>1</td>\n",
       "      <td>296.0</td>\n",
       "      <td>15.3</td>\n",
       "      <td>396.90</td>\n",
       "      <td>4.98</td>\n",
       "      <td>24.0</td>\n",
       "    </tr>\n",
       "    <tr>\n",
       "      <th>1</th>\n",
       "      <td>0.02731</td>\n",
       "      <td>0.0</td>\n",
       "      <td>7.07</td>\n",
       "      <td>0</td>\n",
       "      <td>0.469</td>\n",
       "      <td>6.421</td>\n",
       "      <td>78.9</td>\n",
       "      <td>4.9671</td>\n",
       "      <td>2</td>\n",
       "      <td>242.0</td>\n",
       "      <td>17.8</td>\n",
       "      <td>396.90</td>\n",
       "      <td>9.14</td>\n",
       "      <td>21.6</td>\n",
       "    </tr>\n",
       "    <tr>\n",
       "      <th>2</th>\n",
       "      <td>0.02729</td>\n",
       "      <td>0.0</td>\n",
       "      <td>7.07</td>\n",
       "      <td>0</td>\n",
       "      <td>0.469</td>\n",
       "      <td>7.185</td>\n",
       "      <td>61.1</td>\n",
       "      <td>4.9671</td>\n",
       "      <td>2</td>\n",
       "      <td>242.0</td>\n",
       "      <td>17.8</td>\n",
       "      <td>392.83</td>\n",
       "      <td>4.03</td>\n",
       "      <td>34.7</td>\n",
       "    </tr>\n",
       "    <tr>\n",
       "      <th>3</th>\n",
       "      <td>0.03237</td>\n",
       "      <td>0.0</td>\n",
       "      <td>2.18</td>\n",
       "      <td>0</td>\n",
       "      <td>0.458</td>\n",
       "      <td>6.998</td>\n",
       "      <td>45.8</td>\n",
       "      <td>6.0622</td>\n",
       "      <td>3</td>\n",
       "      <td>222.0</td>\n",
       "      <td>18.7</td>\n",
       "      <td>394.63</td>\n",
       "      <td>2.94</td>\n",
       "      <td>33.4</td>\n",
       "    </tr>\n",
       "    <tr>\n",
       "      <th>4</th>\n",
       "      <td>0.06905</td>\n",
       "      <td>0.0</td>\n",
       "      <td>2.18</td>\n",
       "      <td>0</td>\n",
       "      <td>0.458</td>\n",
       "      <td>7.147</td>\n",
       "      <td>54.2</td>\n",
       "      <td>6.0622</td>\n",
       "      <td>3</td>\n",
       "      <td>222.0</td>\n",
       "      <td>18.7</td>\n",
       "      <td>396.90</td>\n",
       "      <td>5.33</td>\n",
       "      <td>36.2</td>\n",
       "    </tr>\n",
       "  </tbody>\n",
       "</table>\n",
       "</div>"
      ],
      "text/plain": [
       "      CRIM    ZN  INDUS  CHAS    NOX     RM   AGE     DIS  RAD    TAX  \\\n",
       "0  0.00632  18.0   2.31     0  0.538  6.575  65.2  4.0900    1  296.0   \n",
       "1  0.02731   0.0   7.07     0  0.469  6.421  78.9  4.9671    2  242.0   \n",
       "2  0.02729   0.0   7.07     0  0.469  7.185  61.1  4.9671    2  242.0   \n",
       "3  0.03237   0.0   2.18     0  0.458  6.998  45.8  6.0622    3  222.0   \n",
       "4  0.06905   0.0   2.18     0  0.458  7.147  54.2  6.0622    3  222.0   \n",
       "\n",
       "   PTRATIO       B  LSTAT  MEDV  \n",
       "0     15.3  396.90   4.98  24.0  \n",
       "1     17.8  396.90   9.14  21.6  \n",
       "2     17.8  392.83   4.03  34.7  \n",
       "3     18.7  394.63   2.94  33.4  \n",
       "4     18.7  396.90   5.33  36.2  "
      ]
     },
     "execution_count": 5,
     "metadata": {},
     "output_type": "execute_result"
    }
   ],
   "source": [
    "data.head()"
   ]
  },
  {
   "cell_type": "markdown",
   "id": "dea11f64b3a36938",
   "metadata": {},
   "source": [
    "Normalization and preprocessing"
   ]
  },
  {
   "cell_type": "code",
   "execution_count": 6,
   "id": "bc092f7b89a3397b",
   "metadata": {
    "ExecuteTime": {
     "end_time": "2024-10-23T16:48:51.447820Z",
     "start_time": "2024-10-23T16:48:51.432048Z"
    }
   },
   "outputs": [],
   "source": [
    "input_data = data[data.columns[:13]]\n",
    "output_data = data[data.columns[13]]\n",
    "\n",
    "scaler = MinMaxScaler()\n",
    "\n",
    "input_data = pd.DataFrame(scaler.fit_transform(input_data), columns=data.columns[:13])\n"
   ]
  },
  {
   "cell_type": "code",
   "execution_count": 7,
   "id": "467cf2006d132216",
   "metadata": {
    "ExecuteTime": {
     "end_time": "2024-10-23T16:48:51.463852Z",
     "start_time": "2024-10-23T16:48:51.447820Z"
    }
   },
   "outputs": [],
   "source": [
    "data = pd.concat([input_data,output_data], axis=1)\n",
    "data = data.to_numpy()\n",
    "np.random.shuffle(data)\n",
    "input_data = data[:,:13]\n",
    "output_data = data[:,13]"
   ]
  },
  {
   "cell_type": "code",
   "execution_count": 8,
   "id": "174287fbba4d0701",
   "metadata": {
    "ExecuteTime": {
     "end_time": "2024-10-23T16:48:51.479513Z",
     "start_time": "2024-10-23T16:48:51.464925Z"
    }
   },
   "outputs": [],
   "source": [
    "X_train = input_data[:int(TRAIN_TEST_SPLIT*input_data.shape[0])]\n",
    "y_train = output_data[:int(TRAIN_TEST_SPLIT*input_data.shape[0])]\n",
    "X_test = input_data[int(TRAIN_TEST_SPLIT*input_data.shape[0]):]\n",
    "y_test = output_data[int(TRAIN_TEST_SPLIT*input_data.shape[0]):]"
   ]
  },
  {
   "cell_type": "markdown",
   "id": "ad61162aa33e3860",
   "metadata": {},
   "source": [
    "Creating a Dense Model, fitting and evaluation"
   ]
  },
  {
   "cell_type": "code",
   "execution_count": 9,
   "id": "9433c781b5823885",
   "metadata": {
    "ExecuteTime": {
     "end_time": "2024-10-23T16:48:51.495574Z",
     "start_time": "2024-10-23T16:48:51.479513Z"
    }
   },
   "outputs": [],
   "source": [
    "model = tf.keras.models.Sequential(\n",
    "    [\n",
    "        layers.Dense(13, activation='relu'),\n",
    "        layers.Dense(512, activation='relu'),\n",
    "        layers.Dense(256,activation='relu'),\n",
    "        layers.Dense(32,activation='relu'),\n",
    "        layers.Dense(1, activation='linear')\n",
    "    ]\n",
    ")"
   ]
  },
  {
   "cell_type": "code",
   "execution_count": 10,
   "id": "5ea99bfa761b9187",
   "metadata": {
    "ExecuteTime": {
     "end_time": "2024-10-23T16:51:17.731290Z",
     "start_time": "2024-10-23T16:51:17.699974Z"
    }
   },
   "outputs": [],
   "source": [
    "model.compile(\n",
    "    loss=tf.keras.losses.MSE,\n",
    "    optimizer=tf.keras.optimizers.Adam(learning_rate=0.001),\n",
    ")"
   ]
  },
  {
   "cell_type": "code",
   "execution_count": 11,
   "id": "4c071d8043aaae90",
   "metadata": {
    "ExecuteTime": {
     "end_time": "2024-10-23T16:48:58.520787Z",
     "start_time": "2024-10-23T16:48:51.511626Z"
    }
   },
   "outputs": [
    {
     "name": "stdout",
     "output_type": "stream",
     "text": [
      "Epoch 1/200\n",
      "26/26 - 1s - loss: 482.6552 - 828ms/epoch - 32ms/step\n",
      "Epoch 2/200\n",
      "26/26 - 0s - loss: 143.0930 - 30ms/epoch - 1ms/step\n",
      "Epoch 3/200\n",
      "26/26 - 0s - loss: 83.2720 - 30ms/epoch - 1ms/step\n",
      "Epoch 4/200\n",
      "26/26 - 0s - loss: 57.7162 - 29ms/epoch - 1ms/step\n",
      "Epoch 5/200\n",
      "26/26 - 0s - loss: 46.8224 - 28ms/epoch - 1ms/step\n",
      "Epoch 6/200\n",
      "26/26 - 0s - loss: 39.2040 - 31ms/epoch - 1ms/step\n",
      "Epoch 7/200\n",
      "26/26 - 0s - loss: 33.8197 - 31ms/epoch - 1ms/step\n",
      "Epoch 8/200\n",
      "26/26 - 0s - loss: 27.9819 - 31ms/epoch - 1ms/step\n",
      "Epoch 9/200\n",
      "26/26 - 0s - loss: 23.6856 - 30ms/epoch - 1ms/step\n",
      "Epoch 10/200\n",
      "26/26 - 0s - loss: 22.6615 - 31ms/epoch - 1ms/step\n",
      "Epoch 11/200\n",
      "26/26 - 0s - loss: 18.6427 - 28ms/epoch - 1ms/step\n",
      "Epoch 12/200\n",
      "26/26 - 0s - loss: 17.9243 - 27ms/epoch - 1ms/step\n",
      "Epoch 13/200\n",
      "26/26 - 0s - loss: 16.5934 - 29ms/epoch - 1ms/step\n",
      "Epoch 14/200\n",
      "26/26 - 0s - loss: 15.5484 - 29ms/epoch - 1ms/step\n",
      "Epoch 15/200\n",
      "26/26 - 0s - loss: 16.3043 - 29ms/epoch - 1ms/step\n",
      "Epoch 16/200\n",
      "26/26 - 0s - loss: 16.6686 - 28ms/epoch - 1ms/step\n",
      "Epoch 17/200\n",
      "26/26 - 0s - loss: 15.2709 - 29ms/epoch - 1ms/step\n",
      "Epoch 18/200\n",
      "26/26 - 0s - loss: 16.0266 - 29ms/epoch - 1ms/step\n",
      "Epoch 19/200\n",
      "26/26 - 0s - loss: 14.2295 - 28ms/epoch - 1ms/step\n",
      "Epoch 20/200\n",
      "26/26 - 0s - loss: 13.4336 - 29ms/epoch - 1ms/step\n",
      "Epoch 21/200\n",
      "26/26 - 0s - loss: 14.0278 - 29ms/epoch - 1ms/step\n",
      "Epoch 22/200\n",
      "26/26 - 0s - loss: 12.9498 - 30ms/epoch - 1ms/step\n",
      "Epoch 23/200\n",
      "26/26 - 0s - loss: 12.7574 - 27ms/epoch - 1ms/step\n",
      "Epoch 24/200\n",
      "26/26 - 0s - loss: 13.0429 - 27ms/epoch - 1ms/step\n",
      "Epoch 25/200\n",
      "26/26 - 0s - loss: 12.3354 - 32ms/epoch - 1ms/step\n",
      "Epoch 26/200\n",
      "26/26 - 0s - loss: 12.4662 - 31ms/epoch - 1ms/step\n",
      "Epoch 27/200\n",
      "26/26 - 0s - loss: 12.6523 - 28ms/epoch - 1ms/step\n",
      "Epoch 28/200\n",
      "26/26 - 0s - loss: 11.4586 - 26ms/epoch - 1ms/step\n",
      "Epoch 29/200\n",
      "26/26 - 0s - loss: 11.2264 - 27ms/epoch - 1ms/step\n",
      "Epoch 30/200\n",
      "26/26 - 0s - loss: 13.0625 - 28ms/epoch - 1ms/step\n",
      "Epoch 31/200\n",
      "26/26 - 0s - loss: 12.4680 - 27ms/epoch - 1ms/step\n",
      "Epoch 32/200\n",
      "26/26 - 0s - loss: 11.1360 - 28ms/epoch - 1ms/step\n",
      "Epoch 33/200\n",
      "26/26 - 0s - loss: 11.6839 - 28ms/epoch - 1ms/step\n",
      "Epoch 34/200\n",
      "26/26 - 0s - loss: 11.8060 - 30ms/epoch - 1ms/step\n",
      "Epoch 35/200\n",
      "26/26 - 0s - loss: 11.7791 - 29ms/epoch - 1ms/step\n",
      "Epoch 36/200\n",
      "26/26 - 0s - loss: 10.8152 - 28ms/epoch - 1ms/step\n",
      "Epoch 37/200\n",
      "26/26 - 0s - loss: 11.9599 - 30ms/epoch - 1ms/step\n",
      "Epoch 38/200\n",
      "26/26 - 0s - loss: 10.3939 - 30ms/epoch - 1ms/step\n",
      "Epoch 39/200\n",
      "26/26 - 0s - loss: 10.3856 - 31ms/epoch - 1ms/step\n",
      "Epoch 40/200\n",
      "26/26 - 0s - loss: 10.6253 - 28ms/epoch - 1ms/step\n",
      "Epoch 41/200\n",
      "26/26 - 0s - loss: 11.3948 - 30ms/epoch - 1ms/step\n",
      "Epoch 42/200\n",
      "26/26 - 0s - loss: 10.1902 - 30ms/epoch - 1ms/step\n",
      "Epoch 43/200\n",
      "26/26 - 0s - loss: 9.9552 - 33ms/epoch - 1ms/step\n",
      "Epoch 44/200\n",
      "26/26 - 0s - loss: 10.0146 - 29ms/epoch - 1ms/step\n",
      "Epoch 45/200\n",
      "26/26 - 0s - loss: 10.3969 - 29ms/epoch - 1ms/step\n",
      "Epoch 46/200\n",
      "26/26 - 0s - loss: 10.0082 - 30ms/epoch - 1ms/step\n",
      "Epoch 47/200\n",
      "26/26 - 0s - loss: 10.0297 - 30ms/epoch - 1ms/step\n",
      "Epoch 48/200\n",
      "26/26 - 0s - loss: 9.7897 - 28ms/epoch - 1ms/step\n",
      "Epoch 49/200\n",
      "26/26 - 0s - loss: 9.8571 - 28ms/epoch - 1ms/step\n",
      "Epoch 50/200\n",
      "26/26 - 0s - loss: 10.0195 - 29ms/epoch - 1ms/step\n",
      "Epoch 51/200\n",
      "26/26 - 0s - loss: 9.8485 - 27ms/epoch - 1ms/step\n",
      "Epoch 52/200\n",
      "26/26 - 0s - loss: 9.5026 - 26ms/epoch - 999us/step\n",
      "Epoch 53/200\n",
      "26/26 - 0s - loss: 11.2818 - 29ms/epoch - 1ms/step\n",
      "Epoch 54/200\n",
      "26/26 - 0s - loss: 9.4565 - 30ms/epoch - 1ms/step\n",
      "Epoch 55/200\n",
      "26/26 - 0s - loss: 9.3818 - 28ms/epoch - 1ms/step\n",
      "Epoch 56/200\n",
      "26/26 - 0s - loss: 9.5283 - 30ms/epoch - 1ms/step\n",
      "Epoch 57/200\n",
      "26/26 - 0s - loss: 9.2748 - 30ms/epoch - 1ms/step\n",
      "Epoch 58/200\n",
      "26/26 - 0s - loss: 9.7261 - 30ms/epoch - 1ms/step\n",
      "Epoch 59/200\n",
      "26/26 - 0s - loss: 9.4585 - 33ms/epoch - 1ms/step\n",
      "Epoch 60/200\n",
      "26/26 - 0s - loss: 8.8336 - 34ms/epoch - 1ms/step\n",
      "Epoch 61/200\n",
      "26/26 - 0s - loss: 11.4366 - 31ms/epoch - 1ms/step\n",
      "Epoch 62/200\n",
      "26/26 - 0s - loss: 11.0085 - 31ms/epoch - 1ms/step\n",
      "Epoch 63/200\n",
      "26/26 - 0s - loss: 10.2269 - 31ms/epoch - 1ms/step\n",
      "Epoch 64/200\n",
      "26/26 - 0s - loss: 10.2673 - 52ms/epoch - 2ms/step\n",
      "Epoch 65/200\n",
      "26/26 - 0s - loss: 8.7633 - 39ms/epoch - 2ms/step\n",
      "Epoch 66/200\n",
      "26/26 - 0s - loss: 8.6246 - 44ms/epoch - 2ms/step\n",
      "Epoch 67/200\n",
      "26/26 - 0s - loss: 9.2598 - 43ms/epoch - 2ms/step\n",
      "Epoch 68/200\n",
      "26/26 - 0s - loss: 10.0105 - 38ms/epoch - 1ms/step\n",
      "Epoch 69/200\n",
      "26/26 - 0s - loss: 8.3331 - 48ms/epoch - 2ms/step\n",
      "Epoch 70/200\n",
      "26/26 - 0s - loss: 9.0656 - 56ms/epoch - 2ms/step\n",
      "Epoch 71/200\n",
      "26/26 - 0s - loss: 8.6455 - 41ms/epoch - 2ms/step\n",
      "Epoch 72/200\n",
      "26/26 - 0s - loss: 9.3833 - 34ms/epoch - 1ms/step\n",
      "Epoch 73/200\n",
      "26/26 - 0s - loss: 8.2712 - 29ms/epoch - 1ms/step\n",
      "Epoch 74/200\n",
      "26/26 - 0s - loss: 8.0574 - 28ms/epoch - 1ms/step\n",
      "Epoch 75/200\n",
      "26/26 - 0s - loss: 9.1033 - 27ms/epoch - 1ms/step\n",
      "Epoch 76/200\n",
      "26/26 - 0s - loss: 8.7689 - 29ms/epoch - 1ms/step\n",
      "Epoch 77/200\n",
      "26/26 - 0s - loss: 9.0799 - 30ms/epoch - 1ms/step\n",
      "Epoch 78/200\n",
      "26/26 - 0s - loss: 9.0213 - 32ms/epoch - 1ms/step\n",
      "Epoch 79/200\n",
      "26/26 - 0s - loss: 10.0496 - 30ms/epoch - 1ms/step\n",
      "Epoch 80/200\n",
      "26/26 - 0s - loss: 8.2960 - 31ms/epoch - 1ms/step\n",
      "Epoch 81/200\n",
      "26/26 - 0s - loss: 8.2293 - 29ms/epoch - 1ms/step\n",
      "Epoch 82/200\n",
      "26/26 - 0s - loss: 8.8418 - 26ms/epoch - 998us/step\n",
      "Epoch 83/200\n",
      "26/26 - 0s - loss: 8.9128 - 28ms/epoch - 1ms/step\n",
      "Epoch 84/200\n",
      "26/26 - 0s - loss: 8.0067 - 29ms/epoch - 1ms/step\n",
      "Epoch 85/200\n",
      "26/26 - 0s - loss: 8.5668 - 29ms/epoch - 1ms/step\n",
      "Epoch 86/200\n",
      "26/26 - 0s - loss: 8.0035 - 28ms/epoch - 1ms/step\n",
      "Epoch 87/200\n",
      "26/26 - 0s - loss: 8.0448 - 31ms/epoch - 1ms/step\n",
      "Epoch 88/200\n",
      "26/26 - 0s - loss: 7.6596 - 30ms/epoch - 1ms/step\n",
      "Epoch 89/200\n",
      "26/26 - 0s - loss: 9.0565 - 30ms/epoch - 1ms/step\n",
      "Epoch 90/200\n",
      "26/26 - 0s - loss: 7.4891 - 29ms/epoch - 1ms/step\n",
      "Epoch 91/200\n",
      "26/26 - 0s - loss: 7.4683 - 29ms/epoch - 1ms/step\n",
      "Epoch 92/200\n",
      "26/26 - 0s - loss: 8.2852 - 31ms/epoch - 1ms/step\n",
      "Epoch 93/200\n",
      "26/26 - 0s - loss: 8.7952 - 30ms/epoch - 1ms/step\n",
      "Epoch 94/200\n",
      "26/26 - 0s - loss: 8.0286 - 28ms/epoch - 1ms/step\n",
      "Epoch 95/200\n",
      "26/26 - 0s - loss: 7.5633 - 29ms/epoch - 1ms/step\n",
      "Epoch 96/200\n",
      "26/26 - 0s - loss: 8.4123 - 31ms/epoch - 1ms/step\n",
      "Epoch 97/200\n",
      "26/26 - 0s - loss: 7.7283 - 29ms/epoch - 1ms/step\n",
      "Epoch 98/200\n",
      "26/26 - 0s - loss: 7.6292 - 30ms/epoch - 1ms/step\n",
      "Epoch 99/200\n",
      "26/26 - 0s - loss: 7.9830 - 31ms/epoch - 1ms/step\n",
      "Epoch 100/200\n",
      "26/26 - 0s - loss: 6.9455 - 39ms/epoch - 1ms/step\n",
      "Epoch 101/200\n",
      "26/26 - 0s - loss: 6.9976 - 30ms/epoch - 1ms/step\n",
      "Epoch 102/200\n",
      "26/26 - 0s - loss: 7.6008 - 29ms/epoch - 1ms/step\n",
      "Epoch 103/200\n",
      "26/26 - 0s - loss: 6.9600 - 37ms/epoch - 1ms/step\n",
      "Epoch 104/200\n",
      "26/26 - 0s - loss: 6.8145 - 36ms/epoch - 1ms/step\n",
      "Epoch 105/200\n",
      "26/26 - 0s - loss: 6.9732 - 28ms/epoch - 1ms/step\n",
      "Epoch 106/200\n",
      "26/26 - 0s - loss: 8.6870 - 31ms/epoch - 1ms/step\n",
      "Epoch 107/200\n",
      "26/26 - 0s - loss: 9.5813 - 30ms/epoch - 1ms/step\n",
      "Epoch 108/200\n",
      "26/26 - 0s - loss: 7.5373 - 29ms/epoch - 1ms/step\n",
      "Epoch 109/200\n",
      "26/26 - 0s - loss: 7.4519 - 27ms/epoch - 1ms/step\n",
      "Epoch 110/200\n",
      "26/26 - 0s - loss: 8.0427 - 28ms/epoch - 1ms/step\n",
      "Epoch 111/200\n",
      "26/26 - 0s - loss: 7.0961 - 30ms/epoch - 1ms/step\n",
      "Epoch 112/200\n",
      "26/26 - 0s - loss: 7.1971 - 29ms/epoch - 1ms/step\n",
      "Epoch 113/200\n",
      "26/26 - 0s - loss: 7.1523 - 33ms/epoch - 1ms/step\n",
      "Epoch 114/200\n",
      "26/26 - 0s - loss: 7.2899 - 28ms/epoch - 1ms/step\n",
      "Epoch 115/200\n",
      "26/26 - 0s - loss: 7.3728 - 27ms/epoch - 1ms/step\n",
      "Epoch 116/200\n",
      "26/26 - 0s - loss: 6.6274 - 29ms/epoch - 1ms/step\n",
      "Epoch 117/200\n",
      "26/26 - 0s - loss: 6.9359 - 28ms/epoch - 1ms/step\n",
      "Epoch 118/200\n",
      "26/26 - 0s - loss: 6.7562 - 29ms/epoch - 1ms/step\n",
      "Epoch 119/200\n",
      "26/26 - 0s - loss: 6.6248 - 34ms/epoch - 1ms/step\n",
      "Epoch 120/200\n",
      "26/26 - 0s - loss: 7.4423 - 33ms/epoch - 1ms/step\n",
      "Epoch 121/200\n",
      "26/26 - 0s - loss: 7.2899 - 31ms/epoch - 1ms/step\n",
      "Epoch 122/200\n",
      "26/26 - 0s - loss: 6.3211 - 30ms/epoch - 1ms/step\n",
      "Epoch 123/200\n",
      "26/26 - 0s - loss: 6.5070 - 31ms/epoch - 1ms/step\n",
      "Epoch 124/200\n",
      "26/26 - 0s - loss: 6.9391 - 37ms/epoch - 1ms/step\n",
      "Epoch 125/200\n",
      "26/26 - 0s - loss: 6.4807 - 30ms/epoch - 1ms/step\n",
      "Epoch 126/200\n",
      "26/26 - 0s - loss: 6.1806 - 32ms/epoch - 1ms/step\n",
      "Epoch 127/200\n",
      "26/26 - 0s - loss: 6.2294 - 32ms/epoch - 1ms/step\n",
      "Epoch 128/200\n",
      "26/26 - 0s - loss: 8.0445 - 34ms/epoch - 1ms/step\n",
      "Epoch 129/200\n",
      "26/26 - 0s - loss: 6.8677 - 24ms/epoch - 928us/step\n",
      "Epoch 130/200\n",
      "26/26 - 0s - loss: 6.6104 - 31ms/epoch - 1ms/step\n",
      "Epoch 131/200\n",
      "26/26 - 0s - loss: 6.6580 - 27ms/epoch - 1ms/step\n",
      "Epoch 132/200\n",
      "26/26 - 0s - loss: 7.2755 - 31ms/epoch - 1ms/step\n",
      "Epoch 133/200\n",
      "26/26 - 0s - loss: 6.0320 - 28ms/epoch - 1ms/step\n",
      "Epoch 134/200\n",
      "26/26 - 0s - loss: 5.9973 - 33ms/epoch - 1ms/step\n",
      "Epoch 135/200\n",
      "26/26 - 0s - loss: 5.9718 - 30ms/epoch - 1ms/step\n",
      "Epoch 136/200\n",
      "26/26 - 0s - loss: 6.4745 - 29ms/epoch - 1ms/step\n",
      "Epoch 137/200\n",
      "26/26 - 0s - loss: 6.4902 - 32ms/epoch - 1ms/step\n",
      "Epoch 138/200\n",
      "26/26 - 0s - loss: 5.8296 - 32ms/epoch - 1ms/step\n",
      "Epoch 139/200\n",
      "26/26 - 0s - loss: 6.2948 - 27ms/epoch - 1ms/step\n",
      "Epoch 140/200\n",
      "26/26 - 0s - loss: 5.9191 - 32ms/epoch - 1ms/step\n",
      "Epoch 141/200\n",
      "26/26 - 0s - loss: 6.4085 - 26ms/epoch - 996us/step\n",
      "Epoch 142/200\n",
      "26/26 - 0s - loss: 6.4516 - 30ms/epoch - 1ms/step\n",
      "Epoch 143/200\n",
      "26/26 - 0s - loss: 7.0468 - 29ms/epoch - 1ms/step\n",
      "Epoch 144/200\n",
      "26/26 - 0s - loss: 5.8211 - 26ms/epoch - 1ms/step\n",
      "Epoch 145/200\n",
      "26/26 - 0s - loss: 5.7818 - 30ms/epoch - 1ms/step\n",
      "Epoch 146/200\n",
      "26/26 - 0s - loss: 6.9241 - 29ms/epoch - 1ms/step\n",
      "Epoch 147/200\n",
      "26/26 - 0s - loss: 5.8462 - 32ms/epoch - 1ms/step\n",
      "Epoch 148/200\n",
      "26/26 - 0s - loss: 5.7676 - 29ms/epoch - 1ms/step\n",
      "Epoch 149/200\n",
      "26/26 - 0s - loss: 5.6932 - 30ms/epoch - 1ms/step\n",
      "Epoch 150/200\n",
      "26/26 - 0s - loss: 6.6575 - 27ms/epoch - 1ms/step\n",
      "Epoch 151/200\n",
      "26/26 - 0s - loss: 6.7577 - 30ms/epoch - 1ms/step\n",
      "Epoch 152/200\n",
      "26/26 - 0s - loss: 6.1859 - 27ms/epoch - 1ms/step\n",
      "Epoch 153/200\n",
      "26/26 - 0s - loss: 5.7333 - 33ms/epoch - 1ms/step\n",
      "Epoch 154/200\n",
      "26/26 - 0s - loss: 5.6748 - 31ms/epoch - 1ms/step\n",
      "Epoch 155/200\n",
      "26/26 - 0s - loss: 5.9634 - 31ms/epoch - 1ms/step\n",
      "Epoch 156/200\n",
      "26/26 - 0s - loss: 5.9480 - 29ms/epoch - 1ms/step\n",
      "Epoch 157/200\n",
      "26/26 - 0s - loss: 6.2211 - 30ms/epoch - 1ms/step\n",
      "Epoch 158/200\n",
      "26/26 - 0s - loss: 6.4483 - 28ms/epoch - 1ms/step\n",
      "Epoch 159/200\n",
      "26/26 - 0s - loss: 5.3144 - 23ms/epoch - 867us/step\n",
      "Epoch 160/200\n",
      "26/26 - 0s - loss: 5.1745 - 29ms/epoch - 1ms/step\n",
      "Epoch 161/200\n",
      "26/26 - 0s - loss: 5.6403 - 24ms/epoch - 927us/step\n",
      "Epoch 162/200\n",
      "26/26 - 0s - loss: 5.4396 - 28ms/epoch - 1ms/step\n",
      "Epoch 163/200\n",
      "26/26 - 0s - loss: 5.4425 - 25ms/epoch - 962us/step\n",
      "Epoch 164/200\n",
      "26/26 - 0s - loss: 5.5230 - 30ms/epoch - 1ms/step\n",
      "Epoch 165/200\n",
      "26/26 - 0s - loss: 5.0054 - 27ms/epoch - 1ms/step\n",
      "Epoch 166/200\n",
      "26/26 - 0s - loss: 5.6598 - 42ms/epoch - 2ms/step\n",
      "Epoch 167/200\n",
      "26/26 - 0s - loss: 5.3497 - 30ms/epoch - 1ms/step\n",
      "Epoch 168/200\n",
      "26/26 - 0s - loss: 5.1010 - 27ms/epoch - 1ms/step\n",
      "Epoch 169/200\n",
      "26/26 - 0s - loss: 5.2424 - 28ms/epoch - 1ms/step\n",
      "Epoch 170/200\n",
      "26/26 - 0s - loss: 5.1673 - 50ms/epoch - 2ms/step\n",
      "Epoch 171/200\n",
      "26/26 - 0s - loss: 5.5584 - 25ms/epoch - 957us/step\n",
      "Epoch 172/200\n",
      "26/26 - 0s - loss: 5.3267 - 30ms/epoch - 1ms/step\n",
      "Epoch 173/200\n",
      "26/26 - 0s - loss: 4.7534 - 29ms/epoch - 1ms/step\n",
      "Epoch 174/200\n",
      "26/26 - 0s - loss: 5.5334 - 29ms/epoch - 1ms/step\n",
      "Epoch 175/200\n",
      "26/26 - 0s - loss: 5.1486 - 28ms/epoch - 1ms/step\n",
      "Epoch 176/200\n",
      "26/26 - 0s - loss: 5.7361 - 30ms/epoch - 1ms/step\n",
      "Epoch 177/200\n",
      "26/26 - 0s - loss: 5.0980 - 31ms/epoch - 1ms/step\n",
      "Epoch 178/200\n",
      "26/26 - 0s - loss: 5.3193 - 29ms/epoch - 1ms/step\n",
      "Epoch 179/200\n",
      "26/26 - 0s - loss: 5.1925 - 30ms/epoch - 1ms/step\n",
      "Epoch 180/200\n",
      "26/26 - 0s - loss: 5.6623 - 39ms/epoch - 1ms/step\n",
      "Epoch 181/200\n",
      "26/26 - 0s - loss: 5.1546 - 34ms/epoch - 1ms/step\n",
      "Epoch 182/200\n",
      "26/26 - 0s - loss: 4.6901 - 35ms/epoch - 1ms/step\n",
      "Epoch 183/200\n",
      "26/26 - 0s - loss: 5.1912 - 30ms/epoch - 1ms/step\n",
      "Epoch 184/200\n",
      "26/26 - 0s - loss: 4.8656 - 29ms/epoch - 1ms/step\n",
      "Epoch 185/200\n",
      "26/26 - 0s - loss: 5.6833 - 35ms/epoch - 1ms/step\n",
      "Epoch 186/200\n",
      "26/26 - 0s - loss: 4.8490 - 30ms/epoch - 1ms/step\n",
      "Epoch 187/200\n",
      "26/26 - 0s - loss: 4.5240 - 29ms/epoch - 1ms/step\n",
      "Epoch 188/200\n",
      "26/26 - 0s - loss: 4.7343 - 32ms/epoch - 1ms/step\n",
      "Epoch 189/200\n",
      "26/26 - 0s - loss: 4.4082 - 59ms/epoch - 2ms/step\n",
      "Epoch 190/200\n",
      "26/26 - 0s - loss: 4.5668 - 26ms/epoch - 1ms/step\n",
      "Epoch 191/200\n",
      "26/26 - 0s - loss: 4.3985 - 34ms/epoch - 1ms/step\n",
      "Epoch 192/200\n",
      "26/26 - 0s - loss: 4.5249 - 27ms/epoch - 1ms/step\n",
      "Epoch 193/200\n",
      "26/26 - 0s - loss: 5.3247 - 33ms/epoch - 1ms/step\n",
      "Epoch 194/200\n",
      "26/26 - 0s - loss: 5.1076 - 35ms/epoch - 1ms/step\n",
      "Epoch 195/200\n",
      "26/26 - 0s - loss: 4.5476 - 29ms/epoch - 1ms/step\n",
      "Epoch 196/200\n",
      "26/26 - 0s - loss: 4.8134 - 30ms/epoch - 1ms/step\n",
      "Epoch 197/200\n",
      "26/26 - 0s - loss: 4.2678 - 27ms/epoch - 1ms/step\n",
      "Epoch 198/200\n",
      "26/26 - 0s - loss: 5.0588 - 30ms/epoch - 1ms/step\n",
      "Epoch 199/200\n",
      "26/26 - 0s - loss: 4.0760 - 32ms/epoch - 1ms/step\n",
      "Epoch 200/200\n",
      "26/26 - 0s - loss: 4.6798 - 36ms/epoch - 1ms/step\n"
     ]
    },
    {
     "data": {
      "text/plain": [
       "<keras.callbacks.History at 0x1738712a410>"
      ]
     },
     "execution_count": 11,
     "metadata": {},
     "output_type": "execute_result"
    }
   ],
   "source": [
    "model.fit(X_train, y_train, epochs=200, batch_size=16, verbose=2)"
   ]
  },
  {
   "cell_type": "code",
   "execution_count": 12,
   "id": "96e1a81242b009a8",
   "metadata": {
    "ExecuteTime": {
     "end_time": "2024-10-23T16:48:58.664358Z",
     "start_time": "2024-10-23T16:48:58.520787Z"
    }
   },
   "outputs": [
    {
     "name": "stdout",
     "output_type": "stream",
     "text": [
      "4/4 - 0s - loss: 16.9855 - 129ms/epoch - 32ms/step\n"
     ]
    },
    {
     "data": {
      "text/plain": [
       "16.985490798950195"
      ]
     },
     "execution_count": 12,
     "metadata": {},
     "output_type": "execute_result"
    }
   ],
   "source": [
    "model.evaluate(X_test, y_test, verbose=2)"
   ]
  },
  {
   "cell_type": "markdown",
   "id": "a01adb7d65293be5",
   "metadata": {},
   "source": [
    "Not too well, but we also didn't have much data"
   ]
  },
  {
   "cell_type": "code",
   "execution_count": 13,
   "id": "34d32128fdf85b5c",
   "metadata": {
    "ExecuteTime": {
     "end_time": "2024-10-23T16:48:58.680311Z",
     "start_time": "2024-10-23T16:48:58.665364Z"
    }
   },
   "outputs": [
    {
     "name": "stdout",
     "output_type": "stream",
     "text": [
      "Model: \"sequential\"\n",
      "_________________________________________________________________\n",
      " Layer (type)                Output Shape              Param #   \n",
      "=================================================================\n",
      " dense (Dense)               (None, 13)                182       \n",
      "                                                                 \n",
      " dense_1 (Dense)             (None, 512)               7168      \n",
      "                                                                 \n",
      " dense_2 (Dense)             (None, 256)               131328    \n",
      "                                                                 \n",
      " dense_3 (Dense)             (None, 32)                8224      \n",
      "                                                                 \n",
      " dense_4 (Dense)             (None, 1)                 33        \n",
      "                                                                 \n",
      "=================================================================\n",
      "Total params: 146,935\n",
      "Trainable params: 146,935\n",
      "Non-trainable params: 0\n",
      "_________________________________________________________________\n"
     ]
    }
   ],
   "source": [
    "model.summary()"
   ]
  },
  {
   "cell_type": "markdown",
   "id": "221dc3b9a9a1136e",
   "metadata": {},
   "source": [
    "Data from: https://www.kaggle.com/datasets/vikrishnan/boston-house-prices"
   ]
  }
 ],
 "metadata": {
  "kernelspec": {
   "display_name": "Python 3 (ipykernel)",
   "language": "python",
   "name": "python3"
  },
  "language_info": {
   "codemirror_mode": {
    "name": "ipython",
    "version": 3
   },
   "file_extension": ".py",
   "mimetype": "text/x-python",
   "name": "python",
   "nbconvert_exporter": "python",
   "pygments_lexer": "ipython3",
   "version": "3.10.13"
  }
 },
 "nbformat": 4,
 "nbformat_minor": 5
}
